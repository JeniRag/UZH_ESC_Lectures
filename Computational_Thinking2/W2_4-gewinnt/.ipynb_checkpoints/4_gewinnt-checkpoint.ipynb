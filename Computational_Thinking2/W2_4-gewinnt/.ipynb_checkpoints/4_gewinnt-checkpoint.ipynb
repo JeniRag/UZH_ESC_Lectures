{
 "cells": [
  {
   "cell_type": "code",
   "execution_count": null,
   "id": "417b4823",
   "metadata": {},
   "outputs": [],
   "source": [
    "\"\"\"imports\"\"\"\n",
    "import matplotlib.pyplot as plt\n",
    "import numpy as np\n",
    "import copy"
   ]
  },
  {
   "cell_type": "code",
   "execution_count": null,
   "id": "e0409ca1",
   "metadata": {},
   "outputs": [],
   "source": [
    "class game():\n",
    "    def __init__(self,vertical=6, horizontal=7 ):\n",
    "        self.size=np.array([vertical,horizontal])\n",
    "        self.field=np.full((vertical, horizontal), None) #create array of strings or Nones\n",
    "        \n",
    "    def show(self):\n",
    "        \n",
    "        index =[str(i)+\"\" for i in range(self.size[1])]\n",
    "        print(index)\n",
    "        print_field = [[\" \" if x is None else x for x in self.field[i]] for i in range(self. size[0])] #replace Nones by \" \"\n",
    "        for i in range(self.size[0]):\n",
    "            for n,el in enumerate(print_field[i]):\n",
    "                if n ==len(print_field[i])-1:\n",
    "                    print(\"| \"+ str(el)+ \"  |\", end=\"\\n\")\n",
    "                else:\n",
    "                    print(\"| \"+ str(el)+\" \", end=\" \") #to print in 1 row\n",
    "                \n",
    "            print(\"----------------------------------- \")\n",
    "        print(\" \")\n",
    "        \n",
    "    def is_valid(self, col):\n",
    "        if np.any(self.field[:, col]==None)==True  and col>=0 and col<self.size[1]:\n",
    "            return True\n",
    "        \n",
    "        else:\n",
    "            print(\"not valid\")\n",
    "            return False\n",
    "        \n",
    "    def ask_pos(self):\n",
    "        pos=input(\"Which field?: \")\n",
    "        pos=int(pos)\n",
    "        \n",
    "        while self.is_valid(pos)==False:\n",
    "            self.ask_pos()\n",
    "        return pos\n",
    "        \n",
    "    def fill(self, col, sign):\n",
    "        \n",
    "        #if np.any(self.field[:, col]==None)==False: #no more empty fields\n",
    "        if self.field[0][col]!=None: #if top is full-> no more space\n",
    "            print(\"not possible\") \n",
    "            return False\n",
    "        \n",
    "        elif self.field[self.size[0]-1][col]==None: #check if bottom empty\n",
    "            self.field[self.size[0]-1][col]=sign\n",
    "\n",
    "      \n",
    "        else: #else stack to the other\n",
    "            for i in range(self.size[0]-1, 0, -1):\n",
    "                if (self.field[i][col]!=None and self.field[i-1][col]==None):\n",
    "                    self.field[i-1][col]=sign \n",
    "                    break\n",
    "           \n",
    "    def take(self, i): #take the top coin\n",
    "        if np.all(self.field[:, i]==None)==False:\n",
    "            ind=np.where((self.field[:, i]==\"X\")|( self.field[:,i]==\"O\")) #index of top coin\n",
    "            self.field[ind[0][0]][i]=None\n",
    "        else:\n",
    "            return\n",
    "       \n",
    "    def row_win(self, sign):\n",
    "        for v in range(self.size[0]):\n",
    "            c=0\n",
    "            for h in range(self.size[1]):\n",
    "                \n",
    "                if self.field[v][h]==sign:\n",
    "                    c+=1\n",
    "                else: #if other coin appears set c to 0\n",
    "                    c=0\n",
    "            \n",
    "                if c>=4:\n",
    "                    return True\n",
    "                    #break\n",
    "    \n",
    "    def col_win(self, sign):\n",
    "        for h in range(self.size[1]):\n",
    "            c=0\n",
    "            for v in range(self.size[0]):\n",
    "                if self.field[v][h]==sign:\n",
    "                    c+=1\n",
    "                else: \n",
    "                    c=0\n",
    "                \n",
    "                if c>=4:\n",
    "                    return True\n",
    "                    break\n",
    "     \n",
    "    #######define diag win           \n",
    "    def diag_tlbr_win(self, sign):\n",
    "        #from top left to bottom right\n",
    "        for h in range(self.size[1]-3): #it is enough to calculate only a recangular region\n",
    "            for v in range(self.size[0]-3):\n",
    "                if self.field[v][h]==sign and self.field[v+1][h+1]==sign and self.field[v+2][h+2]==sign and self.field[v+3][h+3]==sign:\n",
    "                    return True\n",
    "                \n",
    "    def diag_bltr_win(self,sign):\n",
    "        for h in range(self.size[1]-3):\n",
    "            for v in range(self.size[0]-1, 3, -1): #bakcwards\n",
    "                if self.field[v][h]==sign and self.field[v-1][h+1]==sign and self.field[v-2][h+2]==sign and self.field[v-3][h+3]==sign:\n",
    "                    return True\n",
    "                \n",
    "    def coins_3_1(self, sign):\n",
    "        return\n",
    "            \n",
    "    def win(self, sign):\n",
    "        \n",
    "        if (self.row_win(sign)==True or self.col_win(sign)==True or self.diag_tlbr_win(sign)==True or self.diag_bltr_win(sign)==True)  : #diag win\n",
    "            return True\n",
    "        \n",
    "        else:\n",
    "            return False\n",
    "        \n",
    "    def is_ended(self, p=False):\n",
    "        \n",
    "        if self.win(\"X\")==True:\n",
    "            \n",
    "            if p==True:\n",
    "                print(\"X wins\")\n",
    "            return True\n",
    "        \n",
    "        elif self.win(\"O\")==True:\n",
    "            \n",
    "            if p==True:\n",
    "                print(\"O wins\")\n",
    "            return True\n",
    "        \n",
    "        elif np.any(self.field==None)==False: #if no empty fiedls\n",
    "            \n",
    "            if p==True:\n",
    "                print(\"Unentschieden\")\n",
    "            return True\n",
    "        \n",
    "        else:\n",
    "            return False"
   ]
  },
  {
   "cell_type": "code",
   "execution_count": null,
   "id": "0914dea8",
   "metadata": {},
   "outputs": [],
   "source": [
    "def points(g):\n",
    "    if (g.win(\"X\")==True): #User wins maximizer\n",
    "        return 1\n",
    "    \n",
    "    elif (g.win(\"O\")==True): #Computer wins minimizer\n",
    "        return -1\n",
    "    \n",
    "    elif np.any(g.field==None)==False: #Unentschieden wenn keine leeren Felder meht\n",
    "        return 0\n",
    "    \n",
    "def minmax(g, depth, alpha, beta, player):\n",
    "    \n",
    "    if g.is_ended()==True:\n",
    "        res=points(g)\n",
    "        return res\n",
    "    \n",
    "    elif depth==0:\n",
    "        return 0 #if depth reached return 0\n",
    "    \n",
    "    else:\n",
    "        h=g.size[0]-1 #Höhe \n",
    "        \n",
    "        if player==1:\n",
    "            sign = \"X\"\n",
    "            best=-2\n",
    "\n",
    "            for i in range(g.size[1]):\n",
    "                #col=g.field[:, i] #returns column\n",
    "                if np.any(g.field[:,i]==None)==True: #if column not full\n",
    "                    \n",
    "                    g.fill(i, sign) #fill with coin\n",
    "\n",
    "                    res=minmax(g, depth-1,alpha, beta, 2)\n",
    "                    best=max(best, res)\n",
    "                    \n",
    "                    alpha=max(alpha,res) #set new alpha\n",
    "                    g.take(i)\n",
    "                    \n",
    "                    if beta <= alpha:\n",
    "                        break\n",
    "                                       \n",
    "            return best\n",
    "\n",
    "        else:\n",
    "            sign=\"O\"\n",
    "            best=2\n",
    "            for i in range(g.size[1]):\n",
    "                #col=g.field[:, i] #returns column\n",
    "                if np.any(g.field[:,i]==None)==True: #if column not full\n",
    "                    \n",
    "                    g.fill(i, sign) #fill with coin\n",
    "\n",
    "                    res= minmax(g, depth-1, alpha, beta, 1)\n",
    "                    best=min(best, res )\n",
    "                   \n",
    "                    beta=min(beta, res) # set new beta\n",
    "                    g.take(i) \n",
    "                    \n",
    "                    if beta <= alpha:\n",
    "                        break # go out of loop\n",
    "                    \n",
    "            return best\n",
    "\n",
    "def decide_move(game, depth, alpha, beta, player):\n",
    "    max_val=-2\n",
    "    min_val=2\n",
    "    \n",
    "    g =copy.deepcopy(game) #create a copy of game\n",
    "    #while depth<max_depth:\n",
    "    \n",
    "    if player==1:\n",
    "        sign=\"X\"\n",
    "        \n",
    "        for i in range(g.size[1]): #iterate over columns\n",
    "            #col=g.field[:, i] #returns column of gamie\n",
    "            \n",
    "            if np.any(g.field[:,i]==None)==True: #if column not full\n",
    "                g.fill(i, sign) #fill with coin\n",
    "                res=minmax(g, depth, alpha, beta, 2)\n",
    "                \n",
    "                if max_val<res:\n",
    "                    max_val=res\n",
    "                    pos =i\n",
    "\n",
    "                g.take(i) #reste\n",
    "\n",
    "\n",
    "    else:\n",
    "        sign=\"O\"\n",
    "        for i in range(g.size[1]):\n",
    "            #col=g.field[:, i] #returns column\n",
    "            if np.any(g.field[:,i] ==None)==True: #if column not full (None exists if empty field available)\n",
    "                \n",
    "                g.fill(i, sign) #fill with coin\n",
    "                res=minmax(g,depth, alpha, beta, 1)\n",
    "                \n",
    "                if min_val>res:\n",
    "                    min_val=res\n",
    "                    pos =i\n",
    "\n",
    "                g.take(i) #reset\n",
    "\n",
    "    return pos\n",
    "                    "
   ]
  },
  {
   "cell_type": "code",
   "execution_count": null,
   "id": "77ed4bfb",
   "metadata": {},
   "outputs": [],
   "source": [
    "g2=game()\n",
    "g2.show()\n",
    "pos=g2.ask_pos()\n",
    "g2.fill(pos, \"X\")\n",
    "\n",
    "alpha= -np.inf\n",
    "beta=np.inf\n",
    "while g2.is_ended(p=True)==False:\n",
    "    \n",
    "    index=decide_move(g2,5, alpha, beta, 2)\n",
    "    print(\"Computers move: \" +str(index))\n",
    "    g2.fill(index, \"O\")\n",
    "    g2.show()\n",
    "    if g2.is_ended(p=True)==False:\n",
    "        col=g2.ask_pos()\n",
    "        g2.fill(col, \"X\")\n",
    "        g2.show()\n",
    "    \n"
   ]
  },
  {
   "cell_type": "markdown",
   "id": "c8d05593",
   "metadata": {},
   "source": []
  },
  {
   "cell_type": "code",
   "execution_count": null,
   "id": "abafd2a0",
   "metadata": {},
   "outputs": [],
   "source": [
    "g1=game()\n",
    "g1.fill(0,\"X\")\n",
    "for i in range(3):\n",
    "    g1.fill(0,\"O\")\n",
    "#g1.fill(0,\"X\")\n",
    "g1.fill(0,\"O\")\n",
    "g1.show()\n",
    "g1.win(\"O\")"
   ]
  },
  {
   "cell_type": "code",
   "execution_count": null,
   "id": "953c1250",
   "metadata": {},
   "outputs": [],
   "source": [
    "g2.show()\n",
    "g2.win(2)"
   ]
  },
  {
   "cell_type": "code",
   "execution_count": null,
   "id": "2a86c32b",
   "metadata": {},
   "outputs": [],
   "source": [
    "g2.fill(0,\"X\")\n",
    "g2.fill(0,\"O\")\n",
    "g2.show()\n",
    "g2.win(1)"
   ]
  },
  {
   "cell_type": "code",
   "execution_count": null,
   "id": "1bc78ef2",
   "metadata": {},
   "outputs": [],
   "source": [
    "g2.show()"
   ]
  },
  {
   "cell_type": "code",
   "execution_count": null,
   "id": "655329d8",
   "metadata": {},
   "outputs": [],
   "source": [
    "g3=game()\n",
    "\n",
    "g3.fill(0, \"O\")\n",
    "g3.fill(0,\"O\")\n",
    "g3.fill(0,\"O\")\n",
    "g3.fill(0,\"X\")\n",
    "g3.fill(0,\"O\")\n",
    "g3.show()\n",
    "g3.take(0)\n",
    "g3.take(4)\n",
    "g3.show()"
   ]
  },
  {
   "cell_type": "code",
   "execution_count": null,
   "id": "6fde847d",
   "metadata": {},
   "outputs": [],
   "source": [
    "g4=game()\n",
    "g4.show()"
   ]
  },
  {
   "cell_type": "code",
   "execution_count": null,
   "id": "137208fe",
   "metadata": {},
   "outputs": [],
   "source": [
    "g3=game()"
   ]
  },
  {
   "cell_type": "code",
   "execution_count": null,
   "id": "cc8d9266",
   "metadata": {},
   "outputs": [],
   "source": [
    "g5=np.copy(g3)"
   ]
  },
  {
   "cell_type": "code",
   "execution_count": null,
   "id": "0be8a53b",
   "metadata": {},
   "outputs": [],
   "source": [
    "g5.field"
   ]
  },
  {
   "cell_type": "code",
   "execution_count": null,
   "id": "f7e87a11",
   "metadata": {},
   "outputs": [],
   "source": [
    "g3.field"
   ]
  },
  {
   "cell_type": "code",
   "execution_count": null,
   "id": "c12730d2",
   "metadata": {},
   "outputs": [],
   "source": [
    "g3=game()\n",
    "g3.fill(0,\"O\")\n",
    "g5=copy.deepcopy(g3)"
   ]
  },
  {
   "cell_type": "code",
   "execution_count": null,
   "id": "9b6664ab",
   "metadata": {},
   "outputs": [],
   "source": [
    "g5.field\n",
    "g5.fill(0,\"X\")\n",
    "g5.show()"
   ]
  },
  {
   "cell_type": "code",
   "execution_count": null,
   "id": "92623c00",
   "metadata": {},
   "outputs": [],
   "source": [
    "g3.show()"
   ]
  },
  {
   "cell_type": "code",
   "execution_count": null,
   "id": "34de2c5a",
   "metadata": {},
   "outputs": [],
   "source": [
    "\"\"\"Testing win cases\"\"\"\n",
    "g5=game()\n",
    "for j in range(5,0, -1):\n",
    "    for i in range(5-j):\n",
    "        g5.fill(i, \"O\")\n",
    "g5.show()\n",
    "g5.win(\"O\")\n",
    "\n",
    "g6=game()\n",
    "for i in range(5):\n",
    "    g6.fill(i,\"O\")\n",
    "g6.fill(4,\"O\")\n",
    "g6.fill(3,\"O\")\n",
    "for j in range(0,4):\n",
    "    for i in range(6-j,2,-1):\n",
    "        g6.fill(i, \"X\")\n",
    "g6.show()\n",
    "g6.win(\"X\")\n",
    "\n",
    "g7=game()\n",
    "for i in range(4):\n",
    "    g7.fill(3,\"X\")\n",
    "g7.show()\n",
    "g7.win(\"X\")"
   ]
  },
  {
   "cell_type": "code",
   "execution_count": null,
   "id": "57372842",
   "metadata": {},
   "outputs": [],
   "source": [
    "g8=game()\n",
    "g8.fill(0,\"X\")\n",
    "g8.fill(1,\"O\")\n",
    "g8.fill(1,\"O\")\n",
    "for i in range(3):\n",
    "     g8.fill(3,\"O\")\n",
    "for j in range(4, 0, -1):\n",
    "    for i in range(4-j, 3):\n",
    "        g8.fill(i, \"X\")\n",
    "g8.fill(3,\"X\")  \n",
    "g8.fill(2,\"O\")\n",
    "for i in range(3):\n",
    "    g8.fill(4,\"O\")\n",
    "for i in range(2):\n",
    "    g8.fill(4,\"X\")\n",
    "g8.fill(3, \"X\")\n",
    "g8.show()\n",
    "g8.win(\"X\")"
   ]
  },
  {
   "cell_type": "code",
   "execution_count": null,
   "id": "02e40b2b",
   "metadata": {},
   "outputs": [],
   "source": [
    "for i in range(6):\n",
    "    g8.fill(4,\"O\")\n",
    "g8.show()"
   ]
  },
  {
   "cell_type": "code",
   "execution_count": null,
   "id": "b91e8d77",
   "metadata": {},
   "outputs": [],
   "source": [
    "a=np.array([1,2,4])\n",
    "b=np.array([1,2,3,4])\n",
    "(list(a) and list(b))==list(b)"
   ]
  },
  {
   "cell_type": "code",
   "execution_count": 40,
   "id": "537aae39",
   "metadata": {},
   "outputs": [
    {
     "name": "stdout",
     "output_type": "stream",
     "text": [
      "['0 ', '1 ', '2 ', '3 ', '4 ', '5 ', '6 ']\n",
      "|    |    |    |    |    |    |     \n",
      "|    |    |    |    |    |    |     \n",
      "|    |    |    |    |    |    |     \n",
      "|    |    |    |    |    |    |     \n",
      "|    |    |    |    |    |    |     \n",
      "|    |    |    |    |    |    |     \n",
      " \n",
      "['0 ', '1 ', '2 ', '3 ', '4 ', '5 ', '6 ']\n",
      "|    |    |    |    |    |    |     \n",
      "|    |    |    |    | X  | X  |     \n",
      "|    |    |    | O  | X  | O  |     \n",
      "|    |    |    | O  | O  | O  |     \n",
      "|    |    |    | O  | O  | O  |     \n",
      "|    |    | X  | O  | O  | X  | O   \n",
      " \n"
     ]
    },
    {
     "data": {
      "text/plain": [
       "True"
      ]
     },
     "execution_count": 40,
     "metadata": {},
     "output_type": "execute_result"
    }
   ],
   "source": [
    "\"\"\"Testing\"\"\"\n",
    "g1=game()\n",
    "g1.show()\n",
    "\n",
    "g1.fill(2,\"X\")\n",
    "g1.fill(3, \"O\")\n",
    "g1.fill(3, \"O\")\n",
    "g1.fill(3, \"O\")\n",
    "g1.fill(3, \"O\")\n",
    "g1.fill(4,\"O\")\n",
    "g1.fill(4, \"O\")\n",
    "g1.fill(4, \"O\")\n",
    "g1.fill(4, \"X\")\n",
    "g1.fill(4, \"X\")\n",
    "g1.fill(5, \"X\")\n",
    "g1.fill(5, \"O\")\n",
    "g1.fill(5, \"O\")\n",
    "g1.fill(5, \"O\")\n",
    "g1.fill(5, \"X\")\n",
    "g1.fill(6, \"O\")\n",
    "g1.show()\n",
    "g1.win(\"O\")"
   ]
  },
  {
   "cell_type": "code",
   "execution_count": null,
   "id": "b88c7a9c",
   "metadata": {},
   "outputs": [],
   "source": [
    "for i in range(9):\n",
    "    print(i)\n",
    "    if i>6:\n",
    "        break"
   ]
  },
  {
   "cell_type": "code",
   "execution_count": 42,
   "id": "b0226623",
   "metadata": {},
   "outputs": [
    {
     "data": {
      "text/plain": [
       "array([[None, None, None, None, None, None, None],\n",
       "       [None, None, None, None, 'X', 'X', None],\n",
       "       [None, None, None, 'O', 'X', 'O', None],\n",
       "       [None, None, None, 'O', 'O', 'O', None],\n",
       "       [None, None, None, 'O', 'O', 'O', None],\n",
       "       [None, None, 'X', 'O', 'O', 'X', 'O']], dtype=object)"
      ]
     },
     "execution_count": 42,
     "metadata": {},
     "output_type": "execute_result"
    }
   ],
   "source": [
    "g1.field"
   ]
  },
  {
   "cell_type": "code",
   "execution_count": 72,
   "id": "b17ddd03",
   "metadata": {},
   "outputs": [
    {
     "name": "stdout",
     "output_type": "stream",
     "text": [
      "['0', '1', '2', '3', '4', '5', '6']\n",
      "|    |    |    |    |    |    |   |\n",
      "-------------------------------- \n",
      "|    |    |    |    |    |    |   |\n",
      "-------------------------------- \n",
      "|    |    |    |    |    |    |   |\n",
      "-------------------------------- \n",
      "|    |    |    |    |    |    |   |\n",
      "-------------------------------- \n",
      "|    |    |    |    |    |    |   |\n",
      "-------------------------------- \n",
      "| X  |    |    |    |    |    |   |\n",
      "-------------------------------- \n",
      " \n"
     ]
    }
   ],
   "source": [
    " for h in range(self.size[1]):\n",
    "                \n",
    "                if self.field[v][h]==sign:\n",
    "                    c+=1\n",
    "                else: #if other coin appears set c to 0\n",
    "                    c=0\n",
    "            \n",
    "                if c>=4:\n",
    "                    return True\n",
    "                    break"
   ]
  },
  {
   "cell_type": "code",
   "execution_count": 5,
   "id": "9d669250",
   "metadata": {},
   "outputs": [
    {
     "ename": "NameError",
     "evalue": "name 'clean' is not defined",
     "output_type": "error",
     "traceback": [
      "\u001b[1;31m---------------------------------------------------------------------------\u001b[0m",
      "\u001b[1;31mNameError\u001b[0m                                 Traceback (most recent call last)",
      "\u001b[1;32m~\\AppData\\Local\\Temp/ipykernel_14220/450147572.py\u001b[0m in \u001b[0;36m<module>\u001b[1;34m\u001b[0m\n\u001b[1;32m----> 1\u001b[1;33m \u001b[0mclean\u001b[0m\u001b[1;33m(\u001b[0m\u001b[1;33m)\u001b[0m\u001b[1;33m\u001b[0m\u001b[1;33m\u001b[0m\u001b[0m\n\u001b[0m\u001b[0;32m      2\u001b[0m \u001b[1;33m\u001b[0m\u001b[0m\n",
      "\u001b[1;31mNameError\u001b[0m: name 'clean' is not defined"
     ]
    }
   ],
   "source": [
    "clean()\n",
    "       "
   ]
  },
  {
   "cell_type": "code",
   "execution_count": null,
   "id": "149629b6",
   "metadata": {},
   "outputs": [],
   "source": []
  }
 ],
 "metadata": {
  "kernelspec": {
   "display_name": "Python 3 (ipykernel)",
   "language": "python",
   "name": "python3"
  },
  "language_info": {
   "codemirror_mode": {
    "name": "ipython",
    "version": 3
   },
   "file_extension": ".py",
   "mimetype": "text/x-python",
   "name": "python",
   "nbconvert_exporter": "python",
   "pygments_lexer": "ipython3",
   "version": "3.7.11"
  }
 },
 "nbformat": 4,
 "nbformat_minor": 5
}

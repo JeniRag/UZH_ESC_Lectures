{
 "cells": [
  {
   "cell_type": "code",
   "execution_count": 2,
   "id": "d76d3913",
   "metadata": {},
   "outputs": [],
   "source": [
    "\"\"\"imports\"\"\"\n",
    "import matplotlib.pyplot as plt\n",
    "import numpy as np\n"
   ]
  },
  {
   "cell_type": "code",
   "execution_count": 3,
   "id": "74c5a89a",
   "metadata": {},
   "outputs": [],
   "source": [
    "class node():\n",
    "    def __init__(self, number,level):\n",
    "        self.number=number\n",
    "        self.sub_nodes=[]\n",
    "        self.gain=None\n",
    "        self.level=level\n",
    "        self.parent=None\n",
    "        self.status=None #X or O\n",
    "        self.value = None \n",
    "        self.path=[number]\n",
    "        self.status_order=[]\n",
    "                        \n",
    "    def show(self):\n",
    "        print(\"level:\"+ str(self.level))\n",
    "        return self.sub_nodes\n",
    "    \n",
    "#class tree():\n",
    "#    def __init__(self):\n",
    "#        self.nodes=[] #list of subnodes\n",
    "#        self.start=None #Parentnod\n",
    "        \n",
    "my_dict={1: [0,0], 2: [0,1], 3: [0,2], 4: [1,0], 5: [1,1], 6:[1,2], 7: [2,0], 8:[2,1], 9:[2,2]}\n",
    "\n",
    "key_list = list(my_dict.keys())\n",
    "val_list = list(my_dict.values())      \n",
    "\n",
    "number_list=list(np.arange(1,10)) #numbers from 1 to 9\n",
    "#position = val_list.index(100)\n",
    "#key_list[position]\n",
    "\n",
    "class game():\n",
    "    def __init__(self):\n",
    "        self.trial=9 #9 Felder zum füllen\n",
    "        self.field=[None, None, None, None, None, None, None, None, None] #empty field\n",
    "        self.start=None\n",
    "        self.occupied=[]\n",
    "    \n",
    "    def is_valid(self, n):\n",
    "        if n<0 or n>2 :\n",
    "            print(\"Not existing Field \")\n",
    "            return False\n",
    "        \n",
    "        elif self.field[n] !=None:\n",
    "            print(\"Already occupied\")\n",
    "            return False\n",
    "        \n",
    "        else:\n",
    "            #print(\"valid\")\n",
    "            return True\n",
    "        \n",
    "    def setO(self, n): #Computer\n",
    "        if( self.trial>0 and  self.is_valid(n)==True ):\n",
    "            self.field[n]=\"O\"\n",
    "            self.trial -=1\n",
    "            self.occupied.append(n)\n",
    "   \n",
    "  \n",
    "        \n",
    "    def setX(self, n): #User\n",
    "        if (self.trial==9 and self.is_valid(n)==True) :\n",
    "            #if self.is_valid(c0,c1)==True:\n",
    "            self.start=[n] #first move for parent node\n",
    "            self.field[n]=\"X\"\n",
    "            self.occupied.append(n)\n",
    "                \n",
    "        elif (self.trial >0 and self.is_valid(nTrue ):\n",
    "            #if self.is_valid(c0,c1)==True:\n",
    "            self.field[n]=\"X\"   \n",
    "            self.trial -=1\n",
    "            self.occupied.append(n\n",
    "\n",
    "    \n",
    "        \n",
    "    \n",
    "    def show(self):\n",
    "        print(self.field[0:3])\n",
    "        print(self.field[3:6])\n",
    "        print(self.field[6:])\n",
    "    \n",
    "    def is_ended(self):\n",
    "    \n",
    "        if self.win(1)==True:\n",
    "            return True\n",
    "        \n",
    "        elif self.win(2)==True:\n",
    "            return True\n",
    "        \n",
    "        elif self.empty_field==0:\n",
    "            return True\n",
    "        \n",
    "        else:\n",
    "            return False\n",
    "           \n",
    "        \n",
    "def win(g1,player):\n",
    "    self=g1\n",
    "    if player==1:\n",
    "        if ((self.field[0]==\"X\"  and self.field[0]==self.field[1] and self.field[1]== self.field[2]) or\n",
    "            (self.field[3]==\"X\"  and self.field[3]==self.field[4] and self.field[4]== self.field[5]) or            \n",
    "            (self.field[6]==\"X\"  and self.field[6]==self.field[7] and self.field[7]== self.field[8])  or\n",
    "            (self.field[0]==\"X\"  and self.field[0]==self.field[3] and self.field[3]== self.field[6])  or\n",
    "            (self.field[0]==\"X\"  and self.field[0]==self.field[4] and self.field[4]== self.field[8])  or\n",
    "            (self.field[6]== \"X\" and self.field[6]==self.field[4] and self.field[4]== self.field[2])):\n",
    "            return True\n",
    "\n",
    "        else:\n",
    "            return False\n",
    "    if player==2:\n",
    "        if ((self.field[0]==\"O\"  and self.field[0]==self.field[1] and self.field[1]== self.field[2]) or\n",
    "            (self.field[3]==\"O\"  and self.field[3]==self.field[4] and self.field[4]== self.field[5]) or            \n",
    "            (self.field[6]==\"O\"  and self.field[6]==self.field[7] and self.field[7]== self.field[8])  or\n",
    "            (self.field[0]==\"O\"  and self.field[0]==self.field[3] and self.field[3]== self.field[6])  or\n",
    "            (self.field[0]==\"O\"  and self.field[0]==self.field[4] and self.field[4]== self.field[8])  or\n",
    "            (self.field[6]== \"O\" and self.field[6]==self.field[4] and self.field[4]== self.field[2])): \n",
    "            return True\n",
    "\n",
    "        else: \n",
    "            return False"
   ]
  },
  {
   "cell_type": "code",
   "execution_count": 4,
   "id": "0d1c367e",
   "metadata": {},
   "outputs": [],
   "source": [
    "def tree(node0, li):\n",
    "    felder=9\n",
    "    b=[]\n",
    "    for j in range(1,felder+1):\n",
    "        b.append(j)\n",
    "    num= (felder+1)-node0.level #9,8,...1\n",
    "    \n",
    "    \n",
    "    c=[]\n",
    "    for i in b:\n",
    "        if i not in node0.path:\n",
    "            c.append(i)\n",
    "    if num>0:\n",
    "        #for i in range(0,num):\n",
    "        for i in range(0,len(c)):\n",
    "            #for j in b:\n",
    "            node_sub=node(c[i], node0.level+1)\n",
    "            node_sub.parent=node0\n",
    "            node_sub.path=node_sub.path+node0.path\n",
    "            \n",
    "            if node0.status==1:\n",
    "                node_sub.status=2\n",
    "            else:\n",
    "                node_sub.status=1\n",
    "            node_sub.status_order=node0.status_order+[node_sub.status]    \n",
    "            li.append(node_sub)\n",
    "            #print(node_sub.path)\n",
    "            node0.sub_nodes.append(node_sub)\n",
    "            tree(node_sub, li)\n",
    "    "
   ]
  },
  {
   "cell_type": "code",
   "execution_count": 5,
   "id": "79597697",
   "metadata": {},
   "outputs": [],
   "source": [
    "\n",
    "def leaf_nodes(node_group):\n",
    "  \n",
    "    leaf_list=[]\n",
    "    for n in node_group:\n",
    "        if n.sub_nodes==[]:\n",
    "            leaf_list.append(n)\n",
    "    return leaf_list\n",
    "\n",
    "    \n",
    "def set_init_value(leaf_list):\n",
    "    \n",
    "    for n1 in leaf_list:\n",
    "        \n",
    "        #li= path_nodes(n1, leaf_list)\n",
    "       \n",
    "        if \n",
    "\n",
    "            \n",
    "def Min(n1):\n",
    "    li=[]\n",
    "    for ns in n1.sub_nodes:\n",
    "        li.append(ns.value)\n",
    "    \n",
    "    return min(li)\n",
    "\n",
    "def Max(n1):\n",
    "    li=[]\n",
    "    for ns in n1.sub_nodes:\n",
    "        li.append(ns.value)\n",
    "    \n",
    "    return max(li)\n",
    "\n",
    "def minmax(node_group):\n",
    "    \n",
    "    for i in range(8,0,-1):\n",
    "        for n1 in node_group:\n",
    "            #for i in range(8,0,-1): #levels from 8 to 1\n",
    "            if n1.level==i:\n",
    "                if n1.status==2:\n",
    "                    n1.value=Max(n1)\n",
    "                else:\n",
    "                    n1.value=Min(n1)\n",
    "\n",
    "def set_values(node0): #list\n",
    "    node0.status=1\n",
    "    node.path=[1]\n",
    "    node.status_order=[1]\n",
    "    li=[node0]\n",
    "    tree(node0,li)\n",
    "    leaf_list=leaf_nodes(li)\n",
    "    set_init_value(leaf_list)\n",
    "    minmax(li)\n",
    "    \n",
    "    #return 0?\n",
    "    \n",
    "def ask_move():\n",
    "    val= input(\"Which field? (x,y): \")\n",
    "    x=int(val[0])\n",
    "    y=int(val[2])\n",
    "    \n",
    "    \n",
    "    print(\"You choose: \" + str(x) +\", \"+ str(y))\n",
    "    print(\" \")\n",
    "    return x,y\n",
    "\n",
    "\n",
    "def decide_move(g1, node0, player):\n",
    "    \n",
    "    if player==1: #maximize?\n",
    "        vmax=node0.sub_nodes[0].value\n",
    "        nodemax=node0.sub_nodes[0]\n",
    "        \n",
    "        for ns in node0.sub_nodes:\n",
    "            if ((ns.value> vmax) and (ns.number not in g1.occupied)):\n",
    "                vmax = ns.value\n",
    "                nodemax=ns\n",
    "                print(\"found new max\")\n",
    "        return nodemax\n",
    "    \n",
    "    elif player==2:\n",
    "        vmin=node0.sub_nodes[0].value\n",
    "        nodemin=node0.sub_nodes[0]\n",
    "        for ns in node0.sub_nodes:\n",
    "            if ((ns.value<vmin) and (ns.number not in g1.occupied)):\n",
    "                vmin =ns.value\n",
    "                nodemin =ns\n",
    "                print(\"found new min\")\n",
    "       #print(nodemin)\n",
    "        return nodemin\n",
    "            \n"
   ]
  },
  {
   "cell_type": "code",
   "execution_count": 7,
   "id": "acd8dbbe",
   "metadata": {},
   "outputs": [
    {
     "name": "stdout",
     "output_type": "stream",
     "text": [
      " 0,   1,    2\n",
      "0[None, None, None]\n",
      "1[None, None, None]\n",
      "2[None, None, None]\n",
      " \n",
      " 0,   1,    2\n",
      "0[None, None, None]\n",
      "1[None, None, None]\n",
      "2[None, None, 'X']\n",
      " \n",
      "[9]\n",
      "suggested move 1\n",
      " 0,   1,    2\n",
      "0['O', None, None]\n",
      "1[None, None, None]\n",
      "2[None, None, 'X']\n",
      " \n",
      "[9, 1]\n",
      " \n",
      "Which field? (x,y): 4,2\n",
      "You choose: 4, 2\n",
      " \n",
      "Not existing Field \n",
      "Which field? (x,y): 2,2\n",
      "You choose: 2, 2\n",
      " \n",
      "Already occupied\n"
     ]
    },
    {
     "ename": "KeyboardInterrupt",
     "evalue": "Interrupted by user",
     "output_type": "error",
     "traceback": [
      "\u001b[1;31m---------------------------------------------------------------------------\u001b[0m",
      "\u001b[1;31mKeyboardInterrupt\u001b[0m                         Traceback (most recent call last)",
      "\u001b[1;32m~\\AppData\\Local\\Temp/ipykernel_37940/490641594.py\u001b[0m in \u001b[0;36m<module>\u001b[1;34m\u001b[0m\n\u001b[0;32m     23\u001b[0m     \u001b[0mXx\u001b[0m\u001b[1;33m,\u001b[0m\u001b[0mXy\u001b[0m\u001b[1;33m=\u001b[0m\u001b[0mask_move\u001b[0m\u001b[1;33m(\u001b[0m\u001b[1;33m)\u001b[0m \u001b[1;31m#input x,y\u001b[0m\u001b[1;33m\u001b[0m\u001b[1;33m\u001b[0m\u001b[0m\n\u001b[0;32m     24\u001b[0m     \u001b[1;32mwhile\u001b[0m \u001b[0mg1\u001b[0m\u001b[1;33m.\u001b[0m\u001b[0mis_valid\u001b[0m\u001b[1;33m(\u001b[0m\u001b[0mXx\u001b[0m\u001b[1;33m,\u001b[0m\u001b[0mXy\u001b[0m\u001b[1;33m)\u001b[0m\u001b[1;33m==\u001b[0m\u001b[1;32mFalse\u001b[0m\u001b[1;33m:\u001b[0m\u001b[1;33m\u001b[0m\u001b[1;33m\u001b[0m\u001b[0m\n\u001b[1;32m---> 25\u001b[1;33m         \u001b[0mXx\u001b[0m\u001b[1;33m,\u001b[0m\u001b[0mXy\u001b[0m\u001b[1;33m=\u001b[0m\u001b[0mask_move\u001b[0m\u001b[1;33m(\u001b[0m\u001b[1;33m)\u001b[0m\u001b[1;33m\u001b[0m\u001b[1;33m\u001b[0m\u001b[0m\n\u001b[0m\u001b[0;32m     26\u001b[0m \u001b[1;33m\u001b[0m\u001b[0m\n\u001b[0;32m     27\u001b[0m     \u001b[1;31m#posX=val_list.index(fX)\u001b[0m\u001b[1;33m\u001b[0m\u001b[1;33m\u001b[0m\u001b[1;33m\u001b[0m\u001b[0m\n",
      "\u001b[1;32m~\\AppData\\Local\\Temp/ipykernel_37940/3436766833.py\u001b[0m in \u001b[0;36mask_move\u001b[1;34m()\u001b[0m\n\u001b[0;32m    113\u001b[0m \u001b[1;33m\u001b[0m\u001b[0m\n\u001b[0;32m    114\u001b[0m \u001b[1;32mdef\u001b[0m \u001b[0mask_move\u001b[0m\u001b[1;33m(\u001b[0m\u001b[1;33m)\u001b[0m\u001b[1;33m:\u001b[0m\u001b[1;33m\u001b[0m\u001b[1;33m\u001b[0m\u001b[0m\n\u001b[1;32m--> 115\u001b[1;33m     \u001b[0mval\u001b[0m\u001b[1;33m=\u001b[0m \u001b[0minput\u001b[0m\u001b[1;33m(\u001b[0m\u001b[1;34m\"Which field? (x,y): \"\u001b[0m\u001b[1;33m)\u001b[0m\u001b[1;33m\u001b[0m\u001b[1;33m\u001b[0m\u001b[0m\n\u001b[0m\u001b[0;32m    116\u001b[0m     \u001b[0mx\u001b[0m\u001b[1;33m=\u001b[0m\u001b[0mint\u001b[0m\u001b[1;33m(\u001b[0m\u001b[0mval\u001b[0m\u001b[1;33m[\u001b[0m\u001b[1;36m0\u001b[0m\u001b[1;33m]\u001b[0m\u001b[1;33m)\u001b[0m\u001b[1;33m\u001b[0m\u001b[1;33m\u001b[0m\u001b[0m\n\u001b[0;32m    117\u001b[0m     \u001b[0my\u001b[0m\u001b[1;33m=\u001b[0m\u001b[0mint\u001b[0m\u001b[1;33m(\u001b[0m\u001b[0mval\u001b[0m\u001b[1;33m[\u001b[0m\u001b[1;36m2\u001b[0m\u001b[1;33m]\u001b[0m\u001b[1;33m)\u001b[0m\u001b[1;33m\u001b[0m\u001b[1;33m\u001b[0m\u001b[0m\n",
      "\u001b[1;32m~\\Anaconda3\\lib\\site-packages\\ipykernel\\kernelbase.py\u001b[0m in \u001b[0;36mraw_input\u001b[1;34m(self, prompt)\u001b[0m\n\u001b[0;32m   1008\u001b[0m             \u001b[0mself\u001b[0m\u001b[1;33m.\u001b[0m\u001b[0m_parent_ident\u001b[0m\u001b[1;33m[\u001b[0m\u001b[1;34m\"shell\"\u001b[0m\u001b[1;33m]\u001b[0m\u001b[1;33m,\u001b[0m\u001b[1;33m\u001b[0m\u001b[1;33m\u001b[0m\u001b[0m\n\u001b[0;32m   1009\u001b[0m             \u001b[0mself\u001b[0m\u001b[1;33m.\u001b[0m\u001b[0mget_parent\u001b[0m\u001b[1;33m(\u001b[0m\u001b[1;34m\"shell\"\u001b[0m\u001b[1;33m)\u001b[0m\u001b[1;33m,\u001b[0m\u001b[1;33m\u001b[0m\u001b[1;33m\u001b[0m\u001b[0m\n\u001b[1;32m-> 1010\u001b[1;33m             \u001b[0mpassword\u001b[0m\u001b[1;33m=\u001b[0m\u001b[1;32mFalse\u001b[0m\u001b[1;33m,\u001b[0m\u001b[1;33m\u001b[0m\u001b[1;33m\u001b[0m\u001b[0m\n\u001b[0m\u001b[0;32m   1011\u001b[0m         )\n\u001b[0;32m   1012\u001b[0m \u001b[1;33m\u001b[0m\u001b[0m\n",
      "\u001b[1;32m~\\Anaconda3\\lib\\site-packages\\ipykernel\\kernelbase.py\u001b[0m in \u001b[0;36m_input_request\u001b[1;34m(self, prompt, ident, parent, password)\u001b[0m\n\u001b[0;32m   1049\u001b[0m             \u001b[1;32mexcept\u001b[0m \u001b[0mKeyboardInterrupt\u001b[0m\u001b[1;33m:\u001b[0m\u001b[1;33m\u001b[0m\u001b[1;33m\u001b[0m\u001b[0m\n\u001b[0;32m   1050\u001b[0m                 \u001b[1;31m# re-raise KeyboardInterrupt, to truncate traceback\u001b[0m\u001b[1;33m\u001b[0m\u001b[1;33m\u001b[0m\u001b[1;33m\u001b[0m\u001b[0m\n\u001b[1;32m-> 1051\u001b[1;33m                 \u001b[1;32mraise\u001b[0m \u001b[0mKeyboardInterrupt\u001b[0m\u001b[1;33m(\u001b[0m\u001b[1;34m\"Interrupted by user\"\u001b[0m\u001b[1;33m)\u001b[0m \u001b[1;32mfrom\u001b[0m \u001b[1;32mNone\u001b[0m\u001b[1;33m\u001b[0m\u001b[1;33m\u001b[0m\u001b[0m\n\u001b[0m\u001b[0;32m   1052\u001b[0m             \u001b[1;32mexcept\u001b[0m \u001b[0mException\u001b[0m\u001b[1;33m:\u001b[0m\u001b[1;33m\u001b[0m\u001b[1;33m\u001b[0m\u001b[0m\n\u001b[0;32m   1053\u001b[0m                 \u001b[0mself\u001b[0m\u001b[1;33m.\u001b[0m\u001b[0mlog\u001b[0m\u001b[1;33m.\u001b[0m\u001b[0mwarning\u001b[0m\u001b[1;33m(\u001b[0m\u001b[1;34m\"Invalid Message:\"\u001b[0m\u001b[1;33m,\u001b[0m \u001b[0mexc_info\u001b[0m\u001b[1;33m=\u001b[0m\u001b[1;32mTrue\u001b[0m\u001b[1;33m)\u001b[0m\u001b[1;33m\u001b[0m\u001b[1;33m\u001b[0m\u001b[0m\n",
      "\u001b[1;31mKeyboardInterrupt\u001b[0m: Interrupted by user"
     ]
    }
   ],
   "source": [
    "g1=game()\n",
    "g1.show()\n",
    "g1.setX(2,2)##User\n",
    "g1.show()\n",
    "print(g1.occupied)\n",
    "g1.start\n",
    "\n",
    "pos=val_list.index(g1.start)\n",
    "n0=node(key_list[pos], 1)\n",
    "set_values(n0)\n",
    "#print(g1.is_ended())\n",
    "\n",
    "while g1.is_ended() !=True:\n",
    "    #print(n0)\n",
    "    node_move=decide_move(g1,n0, 2)# returns key\n",
    "    print(\"suggested move \" + str(node_move.number))\n",
    "    g1.setO(my_dict[node_move.number][0], my_dict[node_move.number][1])\n",
    "    g1.show()\n",
    "    print(g1.occupied)\n",
    "    #print(g1.is_ended())\n",
    "    print(\" \")\n",
    "    n0=node_move\n",
    "    Xx,Xy=ask_move() #input x,y\n",
    "    \n",
    "    while g1.is_valid(Xx,Xy)==False:\n",
    "        Xx,Xy=ask_move()\n",
    "        \n",
    "    #posX=val_list.index(fX)\n",
    "    #g1.setX(my_dict[posX][0], my_dict[posX][1])\n",
    "    g1.setX(Xx,Xy)\n",
    "    ###change node n0\n",
    "    for ns in n0.sub_nodes:\n",
    "        num=my_dict[val_list.index([Xx,Xy])]\n",
    "        if ns.number==num:\n",
    "            n0=ns\n",
    "    g1.show()\n",
    "    print(g1.occupied)\n",
    "    \n",
    "    \n",
    "    #print(g1.is_ended)"
   ]
  },
  {
   "cell_type": "code",
   "execution_count": null,
   "id": "806e0632",
   "metadata": {},
   "outputs": [],
   "source": [
    "n1=node(1,1)\n",
    "n1.status=1\n",
    "n1.path=[1]\n",
    "n1.status_order=[1]\n",
    "li=[n1]\n",
    "tree(n1, li)\n",
    "leaf_list=leaf_nodes(li)\n",
    "set_init_value(leaf_list)\n",
    "minmax(li)\n"
   ]
  },
  {
   "cell_type": "code",
   "execution_count": null,
   "id": "0e73500d",
   "metadata": {},
   "outputs": [],
   "source": []
  },
  {
   "cell_type": "code",
   "execution_count": null,
   "id": "5e7f54c2",
   "metadata": {},
   "outputs": [],
   "source": [
    "a=[-5,8,4,103,5,9]\n",
    "a.sort()"
   ]
  },
  {
   "cell_type": "code",
   "execution_count": null,
   "id": "e39c5bd7",
   "metadata": {},
   "outputs": [],
   "source": [
    "a"
   ]
  },
  {
   "cell_type": "code",
   "execution_count": null,
   "id": "c60b4cd5",
   "metadata": {},
   "outputs": [],
   "source": [
    "b=[-5,8,4]\n",
    "if b in a:\n",
    "    print(\"yes\")\n",
    "else:\n",
    "    print(\"no\")"
   ]
  },
  {
   "cell_type": "code",
   "execution_count": null,
   "id": "ea8ea32c",
   "metadata": {},
   "outputs": [],
   "source": [
    "result=all(elem in a for elem in b)\n",
    "print(result)"
   ]
  },
  {
   "cell_type": "code",
   "execution_count": null,
   "id": "93dc5d8c",
   "metadata": {},
   "outputs": [],
   "source": [
    "result"
   ]
  },
  {
   "cell_type": "code",
   "execution_count": null,
   "id": "4f2199ae",
   "metadata": {},
   "outputs": [],
   "source": [
    "\n",
    "n1=node(2,1) #field number and level\n",
    "set_values(n1)"
   ]
  },
  {
   "cell_type": "code",
   "execution_count": null,
   "id": "96742a0f",
   "metadata": {},
   "outputs": [],
   "source": []
  },
  {
   "cell_type": "code",
   "execution_count": null,
   "id": "a1e746d7",
   "metadata": {},
   "outputs": [],
   "source": [
    "g1=game()\n",
    "g1.setX(1,1) #coordinate\n",
    "g1.show()\n"
   ]
  },
  {
   "cell_type": "code",
   "execution_count": null,
   "id": "eeadd549",
   "metadata": {},
   "outputs": [],
   "source": [
    "g1.start ##file which number it belongs "
   ]
  },
  {
   "cell_type": "code",
   "execution_count": null,
   "id": "62bbe13d",
   "metadata": {},
   "outputs": [],
   "source": []
  },
  {
   "cell_type": "code",
   "execution_count": null,
   "id": "6bc296f3",
   "metadata": {},
   "outputs": [],
   "source": [
    "\"\"\"Debug\"\"\"\n",
    "a=0\n",
    "neg=0\n",
    "for l in leaf_list:\n",
    "    if l.value==None:\n",
    "        print(\"None detected\")\n",
    "    elif type(l.value)==int:\n",
    "        a+=1\n",
    "    if l.value==-1:\n",
    "        neg+=1\n",
    "        \n",
    "print(a)\n",
    "print(neg)"
   ]
  },
  {
   "cell_type": "code",
   "execution_count": null,
   "id": "c3aa7fe9",
   "metadata": {},
   "outputs": [],
   "source": [
    "len(n1.sub_nodes)"
   ]
  },
  {
   "cell_type": "code",
   "execution_count": null,
   "id": "f073c32b",
   "metadata": {},
   "outputs": [],
   "source": [
    "len(li)\n",
    "\n",
    "print(len(leaf_list))"
   ]
  },
  {
   "cell_type": "code",
   "execution_count": null,
   "id": "de4a9268",
   "metadata": {},
   "outputs": [],
   "source": [
    "leaf_list[-1].path\n",
    "print(leaf_list[-1].status_order)\n",
    "print(leaf_list[-1].value)"
   ]
  },
  {
   "cell_type": "code",
   "execution_count": null,
   "id": "98278250",
   "metadata": {},
   "outputs": [],
   "source": [
    "for ns in n1.sub_nodes:\n",
    "    #print(ns.value)\n",
    "    #print(ns.status)\n",
    "    #print(ns.level)\n",
    "    print(str(len(ns.sub_nodes))+ \" \"+ str(ns.number))\n",
    "    #print(ns.number)"
   ]
  },
  {
   "cell_type": "code",
   "execution_count": null,
   "id": "bd4dd4b3",
   "metadata": {},
   "outputs": [],
   "source": [
    "a=[2,3,4]\n",
    "b=[4,5,5]\n",
    "a.append(5)"
   ]
  },
  {
   "cell_type": "code",
   "execution_count": null,
   "id": "7b962874",
   "metadata": {},
   "outputs": [],
   "source": [
    "a=0\n",
    "n2=n1.sub_nodes[a]\n",
    "for ns in n2.sub_nodes:\n",
    "    #print(str(ns.level) + \": \"+ str(len(ns.sub_nodes) + \" \"+ str(ns.number)))\n",
    "    print(ns.number)"
   ]
  },
  {
   "cell_type": "code",
   "execution_count": null,
   "id": "035c1f39",
   "metadata": {},
   "outputs": [],
   "source": [
    "leaf_list=leaf_nodes(li)"
   ]
  },
  {
   "cell_type": "code",
   "execution_count": null,
   "id": "a4e89508",
   "metadata": {},
   "outputs": [],
   "source": [
    "len(leaf_list)"
   ]
  },
  {
   "cell_type": "code",
   "execution_count": null,
   "id": "3932c932",
   "metadata": {},
   "outputs": [],
   "source": [
    "n1.sub_nodes[].value"
   ]
  },
  {
   "cell_type": "code",
   "execution_count": null,
   "id": "b6ea61b3",
   "metadata": {},
   "outputs": [],
   "source": []
  },
  {
   "cell_type": "code",
   "execution_count": null,
   "id": "c38d8f29",
   "metadata": {},
   "outputs": [],
   "source": [
    "#add_sub_nodes([n1], number_list, [])\n",
    "n1=node(1,1) # field, level \n",
    "n1.status=1\n",
    "node_list=[]\n",
    "add_sub_nodes([n1], node_list)\n",
    "print(len(n1.sub_nodes))\n",
    "\n"
   ]
  },
  {
   "cell_type": "code",
   "execution_count": null,
   "id": "23fb42f4",
   "metadata": {},
   "outputs": [],
   "source": [
    "n1=node(1,1) # field, level \n",
    "n1.status=1\n",
    "node_list=[]\n",
    "set_values([n1])"
   ]
  },
  {
   "cell_type": "code",
   "execution_count": null,
   "id": "594835a1",
   "metadata": {},
   "outputs": [],
   "source": [
    "for ns in n1.sub_nodes:\n",
    "    print(ns.value)\n",
    "    print(ns.status)"
   ]
  },
  {
   "cell_type": "code",
   "execution_count": null,
   "id": "d4ee3f08",
   "metadata": {},
   "outputs": [],
   "source": [
    "n1.sub_nodes"
   ]
  },
  {
   "cell_type": "code",
   "execution_count": null,
   "id": "64a05bdd",
   "metadata": {},
   "outputs": [],
   "source": [
    "a=[2,3,4, None]\n",
    "min(a)"
   ]
  },
  {
   "cell_type": "code",
   "execution_count": null,
   "id": "4a9e67b5",
   "metadata": {},
   "outputs": [],
   "source": []
  },
  {
   "cell_type": "code",
   "execution_count": null,
   "id": "5b1034fb",
   "metadata": {},
   "outputs": [],
   "source": []
  },
  {
   "cell_type": "code",
   "execution_count": null,
   "id": "177e7e67",
   "metadata": {},
   "outputs": [],
   "source": [
    "val = input(\"Which field x,y: \")\n",
    "print(val)"
   ]
  },
  {
   "cell_type": "code",
   "execution_count": null,
   "id": "aef4e482",
   "metadata": {},
   "outputs": [],
   "source": [
    "my_dict[6]"
   ]
  },
  {
   "cell_type": "code",
   "execution_count": null,
   "id": "22d63273",
   "metadata": {},
   "outputs": [],
   "source": [
    "a"
   ]
  },
  {
   "cell_type": "code",
   "execution_count": null,
   "id": "0c53332b",
   "metadata": {},
   "outputs": [],
   "source": [
    "\n"
   ]
  },
  {
   "cell_type": "code",
   "execution_count": null,
   "id": "a1f531fc",
   "metadata": {},
   "outputs": [],
   "source": [
    "g1.setO(my_dict[f][0], my_dict[f][1])\n",
    "g1.show()"
   ]
  },
  {
   "cell_type": "code",
   "execution_count": null,
   "id": "af9e5c1f",
   "metadata": {},
   "outputs": [],
   "source": [
    "\n",
    "\n",
    "\n",
    "\n",
    "\n",
    "#TTT_Matrix=np.zeros(shape=(3,3))\n",
    "TTT_Matrix=[[None, None, None], [None, None, None], [None, None, None]]\n",
    "\n",
    "def printField(TTT_Matrix):\n",
    "    print(TTT_Matrix[0])\n",
    "    print(TTT_Matrix[1])\n",
    "    print(TTT_Matrix[2]) "
   ]
  },
  {
   "cell_type": "code",
   "execution_count": null,
   "id": "0c769d94",
   "metadata": {},
   "outputs": [],
   "source": [
    "len(node_list)"
   ]
  },
  {
   "cell_type": "code",
   "execution_count": null,
   "id": "ab587d90",
   "metadata": {},
   "outputs": [],
   "source": [
    "g1=game()\n",
    "g1.setX(2,2)\n",
    "g1.show()"
   ]
  },
  {
   "cell_type": "code",
   "execution_count": null,
   "id": "0b1271cf",
   "metadata": {},
   "outputs": [],
   "source": [
    "g1.setO(2,2)"
   ]
  },
  {
   "cell_type": "code",
   "execution_count": null,
   "id": "a2e0e2f2",
   "metadata": {},
   "outputs": [],
   "source": [
    "g1.show()"
   ]
  },
  {
   "cell_type": "code",
   "execution_count": null,
   "id": "30deee1e",
   "metadata": {},
   "outputs": [],
   "source": [
    "#add_sub_nodes([n1], number_list, [])\n",
    "n1=node(1,1) # field, level \n",
    "n1.status=1\n",
    "node_list=[]\n",
    "add_sub_nodes([n1], node_list)\n",
    "print(len(n1.sub_nodes))"
   ]
  },
  {
   "cell_type": "code",
   "execution_count": null,
   "id": "3c3d6a29",
   "metadata": {},
   "outputs": [],
   "source": [
    "n1.sub_nodes"
   ]
  },
  {
   "cell_type": "code",
   "execution_count": null,
   "id": "8a42a29d",
   "metadata": {},
   "outputs": [],
   "source": [
    "for i in n1.sub_nodes:\n",
    "    print(str(i.number) +\" \"+str(i.level) + \" status: \"+str(i.status))\n",
    "    #print(len(i.sub_nodes))\n",
    "    #print(i.sub_nodes)\n",
    "print(\" \")\n",
    "print(len(n1.sub_nodes))"
   ]
  },
  {
   "cell_type": "code",
   "execution_count": null,
   "id": "0a712c16",
   "metadata": {},
   "outputs": [],
   "source": [
    "for i in n1.sub_nodes:\n",
    "    #print(str(i.number) +\" \"+str(i.level))\n",
    "    print(len(i.sub_nodes))\n",
    "    #print(i.sub_nodes"
   ]
  },
  {
   "cell_type": "code",
   "execution_count": null,
   "id": "76bfde7c",
   "metadata": {},
   "outputs": [],
   "source": [
    "n2s=n1.sub_nodes[0]\n",
    "n3s=n2s.sub_nodes[0]\n",
    "n4s=n3s.sub_nodes[0]\n",
    "print(str(n2s.level)+\": \"+str(len(n2s.sub_nodes)) + \" status: \" +str(n2s.status))\n",
    "print(str(n3s.level)+\": \"+ str(len(n3s.sub_nodes)))\n",
    "print(str(n4s.level)+\": \"+ str(len(n4s.sub_nodes)))\n",
    "n3s.level\n",
    "n2s.sub_nodes"
   ]
  },
  {
   "cell_type": "code",
   "execution_count": null,
   "id": "17405799",
   "metadata": {},
   "outputs": [],
   "source": [
    "add_sub_nodes(n2s.sub_nodes)\n",
    "print(str(n3s.level)+\": \"+ str(len(n3s.sub_nodes)))"
   ]
  },
  {
   "cell_type": "code",
   "execution_count": null,
   "id": "f56a9798",
   "metadata": {},
   "outputs": [],
   "source": [
    "i=0\n",
    "n2s=n1.sub_nodes[i]\n",
    "n3s=n2s.sub_nodes[i]\n",
    "n4s=n3s.sub_nodes[i]\n",
    "print(str(n2s.level)+\": \"+str(len(n2s.sub_nodes)))\n",
    "print(str(n3s.level)+\": \"+ str(len(n3s.sub_nodes)))\n",
    "print(str(n4s.level)+\": \"+ str(len(n4s.sub_nodes)))\n",
    "n3s.level\n",
    "n2s.sub_nodes"
   ]
  },
  {
   "cell_type": "code",
   "execution_count": null,
   "id": "f1bd8bc7",
   "metadata": {},
   "outputs": [],
   "source": [
    "n11=n1.sub_nodes[1]\n",
    "n11.sub_nodes"
   ]
  },
  {
   "cell_type": "code",
   "execution_count": null,
   "id": "2eac95c1",
   "metadata": {},
   "outputs": [],
   "source": [
    "n1\n",
    "n2=node(2,2)\n",
    "n1.sub_nodes.append(n2)\n",
    "n2.parent=n1\n",
    "n3=node(4,3)\n",
    "n2.sub_nodes.append(n3)\n",
    "n3.parent=n2"
   ]
  }
 ],
 "metadata": {
  "kernelspec": {
   "display_name": "Python 3 (ipykernel)",
   "language": "python",
   "name": "python3"
  },
  "language_info": {
   "codemirror_mode": {
    "name": "ipython",
    "version": 3
   },
   "file_extension": ".py",
   "mimetype": "text/x-python",
   "name": "python",
   "nbconvert_exporter": "python",
   "pygments_lexer": "ipython3",
   "version": "3.7.11"
  }
 },
 "nbformat": 4,
 "nbformat_minor": 5
}

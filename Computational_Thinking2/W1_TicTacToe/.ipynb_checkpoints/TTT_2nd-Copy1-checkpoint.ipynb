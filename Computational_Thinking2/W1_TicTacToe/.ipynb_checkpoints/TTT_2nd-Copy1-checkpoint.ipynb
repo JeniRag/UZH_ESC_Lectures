{
 "cells": [
  {
   "cell_type": "code",
   "execution_count": 1,
   "id": "802156af",
   "metadata": {},
   "outputs": [],
   "source": [
    "\"\"\"imports\"\"\"\n",
    "import matplotlib.pyplot as plt\n",
    "import numpy as np"
   ]
  },
  {
   "cell_type": "code",
   "execution_count": 106,
   "id": "f38e86d9",
   "metadata": {},
   "outputs": [],
   "source": [
    "\"\"\"Board \"\"\"\n",
    "class game():\n",
    "    def __init__(self):\n",
    "        self.field=[None, None, None, None, None, None, None, None, None]\n",
    "        self.empty_field=9\n",
    "        self.path_order=[]\n",
    "        self.user_order=[]\n",
    "        \n",
    "    def is_valid(self, n):\n",
    "        if n<0 or n>=9:\n",
    "            print(\"Not existing Field \")\n",
    "            return False\n",
    "        \n",
    "        elif self.field[n] !=None:\n",
    "            print(\"Already occupied\")\n",
    "            return False\n",
    "        \n",
    "        else:\n",
    "            #print(\"valid\")\n",
    "            return True\n",
    "        \n",
    "    def setX(self, n): #User\n",
    "        if (self.empty_field !=0 and self.is_valid(n)==True):\n",
    "            self.field[n]=\"X\"\n",
    "            self.empty_field -=1\n",
    "            self.path_order.append(n)\n",
    "            self.user_order.append(1)\n",
    "    \n",
    "    def setO(self, n): #Computer\n",
    "        if (self.empty_field !=0 and self.is_valid(n)==True):\n",
    "            self.field[n]=\"O\"\n",
    "            self.empty_field -=1\n",
    "            self.path_order.append(n)\n",
    "            self.user_order.append(2)\n",
    "            \n",
    "    def ask_pos(self):\n",
    "        pos=input(\"Which field?: \")\n",
    "        while self.is_valid(int(pos))==False:\n",
    "            ask_pos(self)\n",
    "        return int(pos)\n",
    "    \n",
    "    def show(self):\n",
    "        print(self.field[0:3])\n",
    "        print(self.field[3:6])\n",
    "        print(self.field[6:])\n",
    "        print(\" \")\n",
    "    \n",
    "    def is_ended(self):\n",
    "        \n",
    "        \"\"\"\n",
    "        if (self.field[0]!= None and self.field[0]==self.field[1] and self.field[1]== self.field[2]):\n",
    "            return True\n",
    "        \n",
    "        elif (self.field[3]!= None and self.field[3]==self.field[4] and self.field[4]== self.field[5]):\n",
    "            return True\n",
    "            \n",
    "        elif (self.field[6]!= None and self.field[6]==self.field[7] and self.field[7]== self.field[8]):\n",
    "            return True\n",
    "            \n",
    "        elif (self.field[0]!= None and self.field[0]==self.field[3] and self.field[3]== self.field[6]):\n",
    "            return True\n",
    "            \n",
    "        elif (self.field[1]!= None and self.field[1]==self.field[4] and self.field[4]== self.field[7]):\n",
    "            return True\n",
    "            \n",
    "        elif (self.field[2]!= None and self.field[2]==self.field[5] and self.field[5]== self.field[8]):\n",
    "            return True\n",
    "        \n",
    "        elif (self.field[0]!= None and self.field[0]==self.field[4] and self.field[4]== self.field[8]):\n",
    "            return True\n",
    "        \n",
    "        elif (self.field[6]!= None and self.field[6]==self.field[4] and self.field[4]== self.field[2]):\n",
    "        \n",
    "            return True\n",
    "         \"\"\"\n",
    "        if self.win(1)==True:\n",
    "            return True\n",
    "        \n",
    "        elif self.win(2)==True:\n",
    "            return True\n",
    "        \n",
    "        elif self.empty_field==0:\n",
    "            return True\n",
    "        \n",
    "        else:\n",
    "            return False\n",
    "           \n",
    "        \n",
    "    def win(self,player):\n",
    "        \n",
    "        if player==1:\n",
    "            if ((self.field[0]==\"X\"  and self.field[0]==self.field[1] and self.field[1]== self.field[2]) or\n",
    "                (self.field[3]==\"X\"  and self.field[3]==self.field[4] and self.field[4]== self.field[5]) or            \n",
    "                (self.field[6]==\"X\"  and self.field[6]==self.field[7] and self.field[7]== self.field[8])  or\n",
    "                (self.field[0]==\"X\"  and self.field[0]==self.field[3] and self.field[3]== self.field[6])  or\n",
    "                (self.field[0]==\"X\"  and self.field[0]==self.field[4] and self.field[4]== self.field[8])  or\n",
    "                (self.field[6]== \"X\" and self.field[6]==self.field[4] and self.field[4]== self.field[2])):\n",
    "                return True\n",
    "            \n",
    "            else:\n",
    "                return False\n",
    "        if player==2:\n",
    "            if ((self.field[0]==\"O\"  and self.field[0]==self.field[1] and self.field[1]== self.field[2]) or\n",
    "                (self.field[3]==\"O\"  and self.field[3]==self.field[4] and self.field[4]== self.field[5]) or            \n",
    "                (self.field[6]==\"O\"  and self.field[6]==self.field[7] and self.field[7]== self.field[8])  or\n",
    "                (self.field[0]==\"O\"  and self.field[0]==self.field[3] and self.field[3]== self.field[6])  or\n",
    "                (self.field[0]==\"O\"  and self.field[0]==self.field[4] and self.field[4]== self.field[8])  or\n",
    "                (self.field[6]== \"O\" and self.field[6]==self.field[4] and self.field[4]== self.field[2])): \n",
    "                return True\n",
    "            \n",
    "            else: \n",
    "                return False\n",
    "     \n",
    "    def empty(self):\n",
    "        empty_list=[]\n",
    "        for i in range(len(self.field)):\n",
    "            if self.field[i]==None:\n",
    "                empty_list.append(i)\n",
    "        return empty_list\n",
    "                \n",
    "           "
   ]
  },
  {
   "cell_type": "code",
   "execution_count": 3,
   "id": "c7dcc208",
   "metadata": {},
   "outputs": [],
   "source": [
    "class node(): #possible moves for tree\n",
    "    def __init__(self):\n",
    "        self.score=None # -1, 0, 1\n",
    "        self.pos=None #position    "
   ]
  },
  {
   "cell_type": "code",
   "execution_count": 13,
   "id": "a5fa128b",
   "metadata": {},
   "outputs": [],
   "source": [
    "\"\"\"minmax\"\"\"\n",
    "\n",
    "def minmax(g2, player):\n",
    "    \n",
    "    ###terminal states\n",
    "    node_list=[]\n",
    "     #returns list of empty fields\n",
    "    \n",
    "    if (player==1 and g2.win(1)==True): #if first player wins\n",
    "        #g2.show()\n",
    "        return 1\n",
    "        \n",
    "    elif (player ==2 and g2.win(2)==True) : #Computer will minimieren\n",
    "        #g2.show()\n",
    "        return -1\n",
    "    \n",
    "    elif g2.empty_field==0: #Unentschieden\n",
    "        #g2.show()\n",
    "        return 0\n",
    "    \n",
    "    \n",
    "    #terminal state not reached\n",
    "\n",
    "#def decide_move(g2, player):\n",
    "\n",
    "   \n",
    "    empty_list =g2.empty()\n",
    "    if g2.empty_field!=0:\n",
    "        for i in range(len(empty_list)):\n",
    "            n1 =node()\n",
    "\n",
    "            n1.pos = empty_list[i] \n",
    "\n",
    "            #place figures\n",
    "            if player==1:\n",
    "                g2.field[n1.pos]=\"X\" \n",
    "                n1.score=minmax(g2,2)\n",
    "\n",
    "            else:\n",
    "                g2.field[n1.pos]=\"O\"\n",
    "                n1.score=minmax(g2,1)\n",
    "\n",
    "            g2.field[empty_list[i]]=None #reset for the next iteration\n",
    "\n",
    "\n",
    "            node_list.append(n1)\n",
    "\n",
    "    \n",
    "    max_val=-10\n",
    "    min_val=10\n",
    "    \n",
    "\n",
    "    if player==1:\n",
    "        \n",
    "        for i in range(len(node_list)):\n",
    "            if node_list[i].score>max_val:\n",
    "                max_val=node_list[i].score\n",
    "                best_field=i\n",
    "\n",
    "           \n",
    "\n",
    "    else:\n",
    "        \n",
    "        for i in range(len(node_list)):\n",
    "            if node_list[i].score<min_val:\n",
    "\n",
    "                min_val=node_list[i].score\n",
    "                best_field=i\n",
    "\n",
    "    print(node_list)\n",
    "    return node_list[best_field]\n",
    "      "
   ]
  },
  {
   "cell_type": "code",
   "execution_count": 14,
   "id": "f182de32",
   "metadata": {},
   "outputs": [
    {
     "data": {
      "text/plain": [
       "'\\ndef minmax(g2, player):\\n    \\n    if g2.is_ended==True:\\n        \\n        if (player==2 and g2.win(player)==True):\\n            return -1\\n        elif (player==1 and g2.win(player)==True):\\n            return 1\\n        elif g2.empty_field==0:\\n            return 0\\n    \\n    \\n    empty_list=g2.empty()\\n    for i in range(len(empty_list)):\\n        if player==2:\\n            g2.field[empty_list[i]]=\"O\"\\n            res= minmax(g2,1)\\n\\n        else:\\n            g2.field[empty_list[i]]=\"X\"\\n            res=minmax(g2,2)\\n        g2.field[empty_list[i]]=None\\n        \\n    if player==2:\\n        max_val=-100\\n        for i in range(len(empty_list)):\\n            res= minmax(g2, 1)\\n            if max_val<res:\\n                max_val=res\\n\\n        return max_val\\n\\n    elif player==1:\\n        min_val=100\\n        for i in range(len(empty_list)):\\n            res=minmax(g2,2)\\n            if min_val>res:\\n                min_val=res\\n        return min_val\\n'"
      ]
     },
     "execution_count": 14,
     "metadata": {},
     "output_type": "execute_result"
    }
   ],
   "source": [
    "\"\"\"minmax\"\"\"\n",
    "\"\"\"\n",
    "def minmax(g2, player):\n",
    "    \n",
    "    if g2.is_ended==True:\n",
    "        \n",
    "        if (player==2 and g2.win(player)==True):\n",
    "            return -1\n",
    "        elif (player==1 and g2.win(player)==True):\n",
    "            return 1\n",
    "        elif g2.empty_field==0:\n",
    "            return 0\n",
    "    \n",
    "    \n",
    "    empty_list=g2.empty()\n",
    "    for i in range(len(empty_list)):\n",
    "        if player==2:\n",
    "            g2.field[empty_list[i]]=\"O\"\n",
    "            res= minmax(g2,1)\n",
    "\n",
    "        else:\n",
    "            g2.field[empty_list[i]]=\"X\"\n",
    "            res=minmax(g2,2)\n",
    "        g2.field[empty_list[i]]=None\n",
    "        \n",
    "    if player==2:\n",
    "        max_val=-100\n",
    "        for i in range(len(empty_list)):\n",
    "            res= minmax(g2, 1)\n",
    "            if max_val<res:\n",
    "                max_val=res\n",
    "\n",
    "        return max_val\n",
    "\n",
    "    elif player==1:\n",
    "        min_val=100\n",
    "        for i in range(len(empty_list)):\n",
    "            res=minmax(g2,2)\n",
    "            if min_val>res:\n",
    "                min_val=res\n",
    "        return min_val\n",
    "\"\"\"    "
   ]
  },
  {
   "cell_type": "code",
   "execution_count": 15,
   "id": "4d6ab5d4",
   "metadata": {},
   "outputs": [
    {
     "data": {
      "text/plain": [
       "'\\ndef end_value(g2, player):\\n    if g2.is_ended==True:\\n        \\n        if (player==2 and g2.win(player)==True):\\n            return -1\\n        elif (player==1 and g2.win(player)==True):\\n            return 1\\n        elif g2.empty_field==0:\\n            return 0\\n\\ndef minmax(g2,player):\\n    if g2.is_ended():\\n        return end_value(g2,player)\\n    else:\\n        empty_list=g2.empty()\\n        n1=node()\\n        \\n        for i in range(len(empty_list)):\\n             if player==2:\\n                g2.field[empty_list[i]]=\"O\"\\n                res= minmax(g2,1) # should return end_value\\n                n1.pos=i\\n                n1.score=res\\n                node_list.append(n1)\\n            \\n             else:\\n                g2.field[empty_list[i]]=\"X\"\\n                res=minmax(g2,2)\\n                n1.pos=i\\n                n1.score=res\\n                node_list.append(n1)\\n            \\n             g2.field[empty_list[i]]=None\\n         \\n        if player==2:\\n            max_val=-100\\n            for i in range(len(empty_list)):\\n                res= minmax(g2, 1)\\n                if max_val<res:\\n                    max_val=res\\n\\n            return max_val\\n\\n        elif player==1:\\n            min_val=100\\n            for i in range(len(empty_list)):\\n                res=minmax(g2,2)\\n                if min_val>res:\\n                    min_val=res\\n            return min_val\\n        \\n'"
      ]
     },
     "execution_count": 15,
     "metadata": {},
     "output_type": "execute_result"
    }
   ],
   "source": [
    "\"\"\"\n",
    "def end_value(g2, player):\n",
    "    if g2.is_ended==True:\n",
    "        \n",
    "        if (player==2 and g2.win(player)==True):\n",
    "            return -1\n",
    "        elif (player==1 and g2.win(player)==True):\n",
    "            return 1\n",
    "        elif g2.empty_field==0:\n",
    "            return 0\n",
    "\n",
    "def minmax(g2,player):\n",
    "    if g2.is_ended():\n",
    "        return end_value(g2,player)\n",
    "    else:\n",
    "        empty_list=g2.empty()\n",
    "        n1=node()\n",
    "        \n",
    "        for i in range(len(empty_list)):\n",
    "             if player==2:\n",
    "                g2.field[empty_list[i]]=\"O\"\n",
    "                res= minmax(g2,1) # should return end_value\n",
    "                n1.pos=i\n",
    "                n1.score=res\n",
    "                node_list.append(n1)\n",
    "            \n",
    "             else:\n",
    "                g2.field[empty_list[i]]=\"X\"\n",
    "                res=minmax(g2,2)\n",
    "                n1.pos=i\n",
    "                n1.score=res\n",
    "                node_list.append(n1)\n",
    "            \n",
    "             g2.field[empty_list[i]]=None\n",
    "         \n",
    "        if player==2:\n",
    "            max_val=-100\n",
    "            for i in range(len(empty_list)):\n",
    "                res= minmax(g2, 1)\n",
    "                if max_val<res:\n",
    "                    max_val=res\n",
    "\n",
    "            return max_val\n",
    "\n",
    "        elif player==1:\n",
    "            min_val=100\n",
    "            for i in range(len(empty_list)):\n",
    "                res=minmax(g2,2)\n",
    "                if min_val>res:\n",
    "                    min_val=res\n",
    "            return min_val\n",
    "        \n",
    "\"\"\"    "
   ]
  },
  {
   "cell_type": "code",
   "execution_count": 93,
   "id": "95a1139c",
   "metadata": {},
   "outputs": [],
   "source": [
    "def points(g2,player):\n",
    "\n",
    "    \n",
    "    if (player==1 and g2.win(1)==True): #if first player wins\n",
    "        #g2.show()\n",
    "        return 1\n",
    "        \n",
    "    elif (player ==2 and g2.win(2)==True) : #Computer will minimieren\n",
    "        #g2.show()\n",
    "        return -1\n",
    "    \n",
    "    elif g2.empty_field==0: #Unentschieden\n",
    "        #g2.show()\n",
    "        return 0\n",
    "    \n",
    "def minmax(g2, player):\n",
    "    \n",
    "    res= points(g2,player)\n",
    "    if  res==1:\n",
    "        return res\n",
    "    if res==-1:\n",
    "        return res\n",
    "    if res==0:\n",
    "        return res\n",
    "    \n",
    "    if player==1: #player maximize\n",
    "        max_val=-100\n",
    "        for i in range(9):\n",
    "            if g2.field[i]==None: # if cell empty\n",
    "                g2.field[i]= \"O\" #opponent\n",
    "                best=max(max_val, minmax(g2, 1))\n",
    "                \n",
    "                g2.field[i]=None #return to normal\n",
    "        return best\n",
    "    \n",
    "    \n",
    "    else:\n",
    "        best=100\n",
    "        for i in range(9):\n",
    "            if g2.field[i]==None:\n",
    "                g2.field[i]= \"X\"\n",
    "                best=min(best, minmax(g2,2))\n",
    "                g2.field[i]=None\n",
    "        \n",
    "        return best\n",
    "        \n",
    "def decide_move(g2, player):\n",
    "\n",
    "    n1=node()\n",
    "    max_val=-100\n",
    "    min_val=100\n",
    "    \n",
    "    for i in range(9):\n",
    "        if g2.field[i]==None:\n",
    "            if player==1:\n",
    "                g2.field[i]=\"X\"\n",
    "            else: \n",
    "                g2.field[i]=\"O\"\n",
    "            \n",
    "            if player==2:\n",
    "                res=minmax(g2,2) ###number correct????????\n",
    "                print(res)\n",
    "                if max_val<res:\n",
    "                    n1.pos=i\n",
    "                g2.field[i]=None    \n",
    "            \n",
    "            else:\n",
    "                res=minmax(g2,1)\n",
    "                if res<min_val:\n",
    "                    min_val=res\n",
    "                    n1.pos=i  \n",
    "                g2.field[i]=None\n",
    "            \n",
    "            \n",
    "            \n",
    "            \n",
    "                \n",
    "    print(\"best move: \" + str(n1.pos))\n",
    "    return n1.pos"
   ]
  },
  {
   "cell_type": "code",
   "execution_count": 94,
   "id": "3c339c0e",
   "metadata": {},
   "outputs": [
    {
     "name": "stdout",
     "output_type": "stream",
     "text": [
      "['X', None, None]\n",
      "[None, None, None]\n",
      "[None, None, None]\n",
      " \n",
      "['X', 'O', None]\n",
      "[None, None, None]\n",
      "[None, None, None]\n",
      " \n"
     ]
    },
    {
     "ename": "UnboundLocalError",
     "evalue": "local variable 'best' referenced before assignment",
     "output_type": "error",
     "traceback": [
      "\u001b[1;31m---------------------------------------------------------------------------\u001b[0m",
      "\u001b[1;31mUnboundLocalError\u001b[0m                         Traceback (most recent call last)",
      "\u001b[1;32m~\\AppData\\Local\\Temp/ipykernel_20204/1527341968.py\u001b[0m in \u001b[0;36m<module>\u001b[1;34m\u001b[0m\n\u001b[0;32m      5\u001b[0m \u001b[0mg1\u001b[0m\u001b[1;33m.\u001b[0m\u001b[0msetO\u001b[0m\u001b[1;33m(\u001b[0m\u001b[1;36m1\u001b[0m\u001b[1;33m)\u001b[0m\u001b[1;33m\u001b[0m\u001b[1;33m\u001b[0m\u001b[0m\n\u001b[0;32m      6\u001b[0m \u001b[0mg1\u001b[0m\u001b[1;33m.\u001b[0m\u001b[0mshow\u001b[0m\u001b[1;33m(\u001b[0m\u001b[1;33m)\u001b[0m\u001b[1;33m\u001b[0m\u001b[1;33m\u001b[0m\u001b[0m\n\u001b[1;32m----> 7\u001b[1;33m \u001b[0mminmax\u001b[0m\u001b[1;33m(\u001b[0m\u001b[0mg1\u001b[0m\u001b[1;33m,\u001b[0m\u001b[1;36m1\u001b[0m\u001b[1;33m)\u001b[0m\u001b[1;33m\u001b[0m\u001b[1;33m\u001b[0m\u001b[0m\n\u001b[0m\u001b[0;32m      8\u001b[0m \u001b[1;33m\u001b[0m\u001b[0m\n\u001b[0;32m      9\u001b[0m \u001b[1;32mfor\u001b[0m \u001b[0mi\u001b[0m \u001b[1;32min\u001b[0m \u001b[0mrange\u001b[0m\u001b[1;33m(\u001b[0m\u001b[1;36m9\u001b[0m\u001b[1;33m)\u001b[0m\u001b[1;33m:\u001b[0m\u001b[1;33m\u001b[0m\u001b[1;33m\u001b[0m\u001b[0m\n",
      "\u001b[1;32m~\\AppData\\Local\\Temp/ipykernel_20204/358915106.py\u001b[0m in \u001b[0;36mminmax\u001b[1;34m(g2, player)\u001b[0m\n\u001b[0;32m     29\u001b[0m             \u001b[1;32mif\u001b[0m \u001b[0mg2\u001b[0m\u001b[1;33m.\u001b[0m\u001b[0mfield\u001b[0m\u001b[1;33m[\u001b[0m\u001b[0mi\u001b[0m\u001b[1;33m]\u001b[0m\u001b[1;33m==\u001b[0m\u001b[1;32mNone\u001b[0m\u001b[1;33m:\u001b[0m \u001b[1;31m# if cell empty\u001b[0m\u001b[1;33m\u001b[0m\u001b[1;33m\u001b[0m\u001b[0m\n\u001b[0;32m     30\u001b[0m                 \u001b[0mg2\u001b[0m\u001b[1;33m.\u001b[0m\u001b[0mfield\u001b[0m\u001b[1;33m[\u001b[0m\u001b[0mi\u001b[0m\u001b[1;33m]\u001b[0m\u001b[1;33m=\u001b[0m \u001b[1;34m\"O\"\u001b[0m \u001b[1;31m#opponent\u001b[0m\u001b[1;33m\u001b[0m\u001b[1;33m\u001b[0m\u001b[0m\n\u001b[1;32m---> 31\u001b[1;33m                 \u001b[0mbest\u001b[0m\u001b[1;33m=\u001b[0m\u001b[0mmax\u001b[0m\u001b[1;33m(\u001b[0m\u001b[0mmax_val\u001b[0m\u001b[1;33m,\u001b[0m \u001b[0mminmax\u001b[0m\u001b[1;33m(\u001b[0m\u001b[0mg2\u001b[0m\u001b[1;33m,\u001b[0m \u001b[1;36m1\u001b[0m\u001b[1;33m)\u001b[0m\u001b[1;33m)\u001b[0m\u001b[1;33m\u001b[0m\u001b[1;33m\u001b[0m\u001b[0m\n\u001b[0m\u001b[0;32m     32\u001b[0m \u001b[1;33m\u001b[0m\u001b[0m\n\u001b[0;32m     33\u001b[0m                 \u001b[0mg2\u001b[0m\u001b[1;33m.\u001b[0m\u001b[0mfield\u001b[0m\u001b[1;33m[\u001b[0m\u001b[0mi\u001b[0m\u001b[1;33m]\u001b[0m\u001b[1;33m=\u001b[0m\u001b[1;32mNone\u001b[0m \u001b[1;31m#return to normal\u001b[0m\u001b[1;33m\u001b[0m\u001b[1;33m\u001b[0m\u001b[0m\n",
      "\u001b[1;32m~\\AppData\\Local\\Temp/ipykernel_20204/358915106.py\u001b[0m in \u001b[0;36mminmax\u001b[1;34m(g2, player)\u001b[0m\n\u001b[0;32m     29\u001b[0m             \u001b[1;32mif\u001b[0m \u001b[0mg2\u001b[0m\u001b[1;33m.\u001b[0m\u001b[0mfield\u001b[0m\u001b[1;33m[\u001b[0m\u001b[0mi\u001b[0m\u001b[1;33m]\u001b[0m\u001b[1;33m==\u001b[0m\u001b[1;32mNone\u001b[0m\u001b[1;33m:\u001b[0m \u001b[1;31m# if cell empty\u001b[0m\u001b[1;33m\u001b[0m\u001b[1;33m\u001b[0m\u001b[0m\n\u001b[0;32m     30\u001b[0m                 \u001b[0mg2\u001b[0m\u001b[1;33m.\u001b[0m\u001b[0mfield\u001b[0m\u001b[1;33m[\u001b[0m\u001b[0mi\u001b[0m\u001b[1;33m]\u001b[0m\u001b[1;33m=\u001b[0m \u001b[1;34m\"O\"\u001b[0m \u001b[1;31m#opponent\u001b[0m\u001b[1;33m\u001b[0m\u001b[1;33m\u001b[0m\u001b[0m\n\u001b[1;32m---> 31\u001b[1;33m                 \u001b[0mbest\u001b[0m\u001b[1;33m=\u001b[0m\u001b[0mmax\u001b[0m\u001b[1;33m(\u001b[0m\u001b[0mmax_val\u001b[0m\u001b[1;33m,\u001b[0m \u001b[0mminmax\u001b[0m\u001b[1;33m(\u001b[0m\u001b[0mg2\u001b[0m\u001b[1;33m,\u001b[0m \u001b[1;36m1\u001b[0m\u001b[1;33m)\u001b[0m\u001b[1;33m)\u001b[0m\u001b[1;33m\u001b[0m\u001b[1;33m\u001b[0m\u001b[0m\n\u001b[0m\u001b[0;32m     32\u001b[0m \u001b[1;33m\u001b[0m\u001b[0m\n\u001b[0;32m     33\u001b[0m                 \u001b[0mg2\u001b[0m\u001b[1;33m.\u001b[0m\u001b[0mfield\u001b[0m\u001b[1;33m[\u001b[0m\u001b[0mi\u001b[0m\u001b[1;33m]\u001b[0m\u001b[1;33m=\u001b[0m\u001b[1;32mNone\u001b[0m \u001b[1;31m#return to normal\u001b[0m\u001b[1;33m\u001b[0m\u001b[1;33m\u001b[0m\u001b[0m\n",
      "\u001b[1;32m~\\AppData\\Local\\Temp/ipykernel_20204/358915106.py\u001b[0m in \u001b[0;36mminmax\u001b[1;34m(g2, player)\u001b[0m\n\u001b[0;32m     29\u001b[0m             \u001b[1;32mif\u001b[0m \u001b[0mg2\u001b[0m\u001b[1;33m.\u001b[0m\u001b[0mfield\u001b[0m\u001b[1;33m[\u001b[0m\u001b[0mi\u001b[0m\u001b[1;33m]\u001b[0m\u001b[1;33m==\u001b[0m\u001b[1;32mNone\u001b[0m\u001b[1;33m:\u001b[0m \u001b[1;31m# if cell empty\u001b[0m\u001b[1;33m\u001b[0m\u001b[1;33m\u001b[0m\u001b[0m\n\u001b[0;32m     30\u001b[0m                 \u001b[0mg2\u001b[0m\u001b[1;33m.\u001b[0m\u001b[0mfield\u001b[0m\u001b[1;33m[\u001b[0m\u001b[0mi\u001b[0m\u001b[1;33m]\u001b[0m\u001b[1;33m=\u001b[0m \u001b[1;34m\"O\"\u001b[0m \u001b[1;31m#opponent\u001b[0m\u001b[1;33m\u001b[0m\u001b[1;33m\u001b[0m\u001b[0m\n\u001b[1;32m---> 31\u001b[1;33m                 \u001b[0mbest\u001b[0m\u001b[1;33m=\u001b[0m\u001b[0mmax\u001b[0m\u001b[1;33m(\u001b[0m\u001b[0mmax_val\u001b[0m\u001b[1;33m,\u001b[0m \u001b[0mminmax\u001b[0m\u001b[1;33m(\u001b[0m\u001b[0mg2\u001b[0m\u001b[1;33m,\u001b[0m \u001b[1;36m1\u001b[0m\u001b[1;33m)\u001b[0m\u001b[1;33m)\u001b[0m\u001b[1;33m\u001b[0m\u001b[1;33m\u001b[0m\u001b[0m\n\u001b[0m\u001b[0;32m     32\u001b[0m \u001b[1;33m\u001b[0m\u001b[0m\n\u001b[0;32m     33\u001b[0m                 \u001b[0mg2\u001b[0m\u001b[1;33m.\u001b[0m\u001b[0mfield\u001b[0m\u001b[1;33m[\u001b[0m\u001b[0mi\u001b[0m\u001b[1;33m]\u001b[0m\u001b[1;33m=\u001b[0m\u001b[1;32mNone\u001b[0m \u001b[1;31m#return to normal\u001b[0m\u001b[1;33m\u001b[0m\u001b[1;33m\u001b[0m\u001b[0m\n",
      "\u001b[1;32m~\\AppData\\Local\\Temp/ipykernel_20204/358915106.py\u001b[0m in \u001b[0;36mminmax\u001b[1;34m(g2, player)\u001b[0m\n\u001b[0;32m     29\u001b[0m             \u001b[1;32mif\u001b[0m \u001b[0mg2\u001b[0m\u001b[1;33m.\u001b[0m\u001b[0mfield\u001b[0m\u001b[1;33m[\u001b[0m\u001b[0mi\u001b[0m\u001b[1;33m]\u001b[0m\u001b[1;33m==\u001b[0m\u001b[1;32mNone\u001b[0m\u001b[1;33m:\u001b[0m \u001b[1;31m# if cell empty\u001b[0m\u001b[1;33m\u001b[0m\u001b[1;33m\u001b[0m\u001b[0m\n\u001b[0;32m     30\u001b[0m                 \u001b[0mg2\u001b[0m\u001b[1;33m.\u001b[0m\u001b[0mfield\u001b[0m\u001b[1;33m[\u001b[0m\u001b[0mi\u001b[0m\u001b[1;33m]\u001b[0m\u001b[1;33m=\u001b[0m \u001b[1;34m\"O\"\u001b[0m \u001b[1;31m#opponent\u001b[0m\u001b[1;33m\u001b[0m\u001b[1;33m\u001b[0m\u001b[0m\n\u001b[1;32m---> 31\u001b[1;33m                 \u001b[0mbest\u001b[0m\u001b[1;33m=\u001b[0m\u001b[0mmax\u001b[0m\u001b[1;33m(\u001b[0m\u001b[0mmax_val\u001b[0m\u001b[1;33m,\u001b[0m \u001b[0mminmax\u001b[0m\u001b[1;33m(\u001b[0m\u001b[0mg2\u001b[0m\u001b[1;33m,\u001b[0m \u001b[1;36m1\u001b[0m\u001b[1;33m)\u001b[0m\u001b[1;33m)\u001b[0m\u001b[1;33m\u001b[0m\u001b[1;33m\u001b[0m\u001b[0m\n\u001b[0m\u001b[0;32m     32\u001b[0m \u001b[1;33m\u001b[0m\u001b[0m\n\u001b[0;32m     33\u001b[0m                 \u001b[0mg2\u001b[0m\u001b[1;33m.\u001b[0m\u001b[0mfield\u001b[0m\u001b[1;33m[\u001b[0m\u001b[0mi\u001b[0m\u001b[1;33m]\u001b[0m\u001b[1;33m=\u001b[0m\u001b[1;32mNone\u001b[0m \u001b[1;31m#return to normal\u001b[0m\u001b[1;33m\u001b[0m\u001b[1;33m\u001b[0m\u001b[0m\n",
      "\u001b[1;32m~\\AppData\\Local\\Temp/ipykernel_20204/358915106.py\u001b[0m in \u001b[0;36mminmax\u001b[1;34m(g2, player)\u001b[0m\n\u001b[0;32m     29\u001b[0m             \u001b[1;32mif\u001b[0m \u001b[0mg2\u001b[0m\u001b[1;33m.\u001b[0m\u001b[0mfield\u001b[0m\u001b[1;33m[\u001b[0m\u001b[0mi\u001b[0m\u001b[1;33m]\u001b[0m\u001b[1;33m==\u001b[0m\u001b[1;32mNone\u001b[0m\u001b[1;33m:\u001b[0m \u001b[1;31m# if cell empty\u001b[0m\u001b[1;33m\u001b[0m\u001b[1;33m\u001b[0m\u001b[0m\n\u001b[0;32m     30\u001b[0m                 \u001b[0mg2\u001b[0m\u001b[1;33m.\u001b[0m\u001b[0mfield\u001b[0m\u001b[1;33m[\u001b[0m\u001b[0mi\u001b[0m\u001b[1;33m]\u001b[0m\u001b[1;33m=\u001b[0m \u001b[1;34m\"O\"\u001b[0m \u001b[1;31m#opponent\u001b[0m\u001b[1;33m\u001b[0m\u001b[1;33m\u001b[0m\u001b[0m\n\u001b[1;32m---> 31\u001b[1;33m                 \u001b[0mbest\u001b[0m\u001b[1;33m=\u001b[0m\u001b[0mmax\u001b[0m\u001b[1;33m(\u001b[0m\u001b[0mmax_val\u001b[0m\u001b[1;33m,\u001b[0m \u001b[0mminmax\u001b[0m\u001b[1;33m(\u001b[0m\u001b[0mg2\u001b[0m\u001b[1;33m,\u001b[0m \u001b[1;36m1\u001b[0m\u001b[1;33m)\u001b[0m\u001b[1;33m)\u001b[0m\u001b[1;33m\u001b[0m\u001b[1;33m\u001b[0m\u001b[0m\n\u001b[0m\u001b[0;32m     32\u001b[0m \u001b[1;33m\u001b[0m\u001b[0m\n\u001b[0;32m     33\u001b[0m                 \u001b[0mg2\u001b[0m\u001b[1;33m.\u001b[0m\u001b[0mfield\u001b[0m\u001b[1;33m[\u001b[0m\u001b[0mi\u001b[0m\u001b[1;33m]\u001b[0m\u001b[1;33m=\u001b[0m\u001b[1;32mNone\u001b[0m \u001b[1;31m#return to normal\u001b[0m\u001b[1;33m\u001b[0m\u001b[1;33m\u001b[0m\u001b[0m\n",
      "\u001b[1;32m~\\AppData\\Local\\Temp/ipykernel_20204/358915106.py\u001b[0m in \u001b[0;36mminmax\u001b[1;34m(g2, player)\u001b[0m\n\u001b[0;32m     29\u001b[0m             \u001b[1;32mif\u001b[0m \u001b[0mg2\u001b[0m\u001b[1;33m.\u001b[0m\u001b[0mfield\u001b[0m\u001b[1;33m[\u001b[0m\u001b[0mi\u001b[0m\u001b[1;33m]\u001b[0m\u001b[1;33m==\u001b[0m\u001b[1;32mNone\u001b[0m\u001b[1;33m:\u001b[0m \u001b[1;31m# if cell empty\u001b[0m\u001b[1;33m\u001b[0m\u001b[1;33m\u001b[0m\u001b[0m\n\u001b[0;32m     30\u001b[0m                 \u001b[0mg2\u001b[0m\u001b[1;33m.\u001b[0m\u001b[0mfield\u001b[0m\u001b[1;33m[\u001b[0m\u001b[0mi\u001b[0m\u001b[1;33m]\u001b[0m\u001b[1;33m=\u001b[0m \u001b[1;34m\"O\"\u001b[0m \u001b[1;31m#opponent\u001b[0m\u001b[1;33m\u001b[0m\u001b[1;33m\u001b[0m\u001b[0m\n\u001b[1;32m---> 31\u001b[1;33m                 \u001b[0mbest\u001b[0m\u001b[1;33m=\u001b[0m\u001b[0mmax\u001b[0m\u001b[1;33m(\u001b[0m\u001b[0mmax_val\u001b[0m\u001b[1;33m,\u001b[0m \u001b[0mminmax\u001b[0m\u001b[1;33m(\u001b[0m\u001b[0mg2\u001b[0m\u001b[1;33m,\u001b[0m \u001b[1;36m1\u001b[0m\u001b[1;33m)\u001b[0m\u001b[1;33m)\u001b[0m\u001b[1;33m\u001b[0m\u001b[1;33m\u001b[0m\u001b[0m\n\u001b[0m\u001b[0;32m     32\u001b[0m \u001b[1;33m\u001b[0m\u001b[0m\n\u001b[0;32m     33\u001b[0m                 \u001b[0mg2\u001b[0m\u001b[1;33m.\u001b[0m\u001b[0mfield\u001b[0m\u001b[1;33m[\u001b[0m\u001b[0mi\u001b[0m\u001b[1;33m]\u001b[0m\u001b[1;33m=\u001b[0m\u001b[1;32mNone\u001b[0m \u001b[1;31m#return to normal\u001b[0m\u001b[1;33m\u001b[0m\u001b[1;33m\u001b[0m\u001b[0m\n",
      "\u001b[1;32m~\\AppData\\Local\\Temp/ipykernel_20204/358915106.py\u001b[0m in \u001b[0;36mminmax\u001b[1;34m(g2, player)\u001b[0m\n\u001b[0;32m     29\u001b[0m             \u001b[1;32mif\u001b[0m \u001b[0mg2\u001b[0m\u001b[1;33m.\u001b[0m\u001b[0mfield\u001b[0m\u001b[1;33m[\u001b[0m\u001b[0mi\u001b[0m\u001b[1;33m]\u001b[0m\u001b[1;33m==\u001b[0m\u001b[1;32mNone\u001b[0m\u001b[1;33m:\u001b[0m \u001b[1;31m# if cell empty\u001b[0m\u001b[1;33m\u001b[0m\u001b[1;33m\u001b[0m\u001b[0m\n\u001b[0;32m     30\u001b[0m                 \u001b[0mg2\u001b[0m\u001b[1;33m.\u001b[0m\u001b[0mfield\u001b[0m\u001b[1;33m[\u001b[0m\u001b[0mi\u001b[0m\u001b[1;33m]\u001b[0m\u001b[1;33m=\u001b[0m \u001b[1;34m\"O\"\u001b[0m \u001b[1;31m#opponent\u001b[0m\u001b[1;33m\u001b[0m\u001b[1;33m\u001b[0m\u001b[0m\n\u001b[1;32m---> 31\u001b[1;33m                 \u001b[0mbest\u001b[0m\u001b[1;33m=\u001b[0m\u001b[0mmax\u001b[0m\u001b[1;33m(\u001b[0m\u001b[0mmax_val\u001b[0m\u001b[1;33m,\u001b[0m \u001b[0mminmax\u001b[0m\u001b[1;33m(\u001b[0m\u001b[0mg2\u001b[0m\u001b[1;33m,\u001b[0m \u001b[1;36m1\u001b[0m\u001b[1;33m)\u001b[0m\u001b[1;33m)\u001b[0m\u001b[1;33m\u001b[0m\u001b[1;33m\u001b[0m\u001b[0m\n\u001b[0m\u001b[0;32m     32\u001b[0m \u001b[1;33m\u001b[0m\u001b[0m\n\u001b[0;32m     33\u001b[0m                 \u001b[0mg2\u001b[0m\u001b[1;33m.\u001b[0m\u001b[0mfield\u001b[0m\u001b[1;33m[\u001b[0m\u001b[0mi\u001b[0m\u001b[1;33m]\u001b[0m\u001b[1;33m=\u001b[0m\u001b[1;32mNone\u001b[0m \u001b[1;31m#return to normal\u001b[0m\u001b[1;33m\u001b[0m\u001b[1;33m\u001b[0m\u001b[0m\n",
      "\u001b[1;32m~\\AppData\\Local\\Temp/ipykernel_20204/358915106.py\u001b[0m in \u001b[0;36mminmax\u001b[1;34m(g2, player)\u001b[0m\n\u001b[0;32m     32\u001b[0m \u001b[1;33m\u001b[0m\u001b[0m\n\u001b[0;32m     33\u001b[0m                 \u001b[0mg2\u001b[0m\u001b[1;33m.\u001b[0m\u001b[0mfield\u001b[0m\u001b[1;33m[\u001b[0m\u001b[0mi\u001b[0m\u001b[1;33m]\u001b[0m\u001b[1;33m=\u001b[0m\u001b[1;32mNone\u001b[0m \u001b[1;31m#return to normal\u001b[0m\u001b[1;33m\u001b[0m\u001b[1;33m\u001b[0m\u001b[0m\n\u001b[1;32m---> 34\u001b[1;33m         \u001b[1;32mreturn\u001b[0m \u001b[0mbest\u001b[0m\u001b[1;33m\u001b[0m\u001b[1;33m\u001b[0m\u001b[0m\n\u001b[0m\u001b[0;32m     35\u001b[0m \u001b[1;33m\u001b[0m\u001b[0m\n\u001b[0;32m     36\u001b[0m \u001b[1;33m\u001b[0m\u001b[0m\n",
      "\u001b[1;31mUnboundLocalError\u001b[0m: local variable 'best' referenced before assignment"
     ]
    }
   ],
   "source": [
    "g1=game()\n",
    "g1.setX(0) #first move of user\n",
    "g1.show()\n",
    "\n",
    "g1.setO(1)\n",
    "g1.show()\n",
    "minmax(g1,1)\n",
    "\n",
    "for i in range(9):\n",
    "    if g1.field[i]==None:\n",
    "        g1.setO(i) #Player2\n",
    "        print(minmax(g1,2))\n",
    "        g1.field[i]=None\n",
    "\n",
    "a=decide_move(g1,2)"
   ]
  },
  {
   "cell_type": "code",
   "execution_count": 95,
   "id": "fa497c4f",
   "metadata": {},
   "outputs": [
    {
     "name": "stdout",
     "output_type": "stream",
     "text": [
      "['X', 'X', None]\n",
      "['O', None, None]\n",
      "['O', 'O', None]\n",
      " \n",
      "100\n",
      "100\n",
      "100\n",
      "100\n",
      "-1\n",
      "best move: 8\n"
     ]
    },
    {
     "data": {
      "text/plain": [
       "9"
      ]
     },
     "execution_count": 95,
     "metadata": {},
     "output_type": "execute_result"
    }
   ],
   "source": [
    "g2=game()\n",
    "g2.field=[\"X\",\"X\",None,\"O\",None,None, \"O\",\"O\",None]\n",
    "g2.show()\n",
    "print(minmax(g2,2))\n",
    "decide_move(g2,2)\n",
    "g2.win(2)\n",
    "g2.empty_field"
   ]
  },
  {
   "cell_type": "code",
   "execution_count": 96,
   "id": "aed7f363",
   "metadata": {},
   "outputs": [
    {
     "name": "stdout",
     "output_type": "stream",
     "text": [
      "-1\n"
     ]
    }
   ],
   "source": [
    "a=minmax(g1,2)\n",
    "print(a)\n"
   ]
  },
  {
   "cell_type": "code",
   "execution_count": 97,
   "id": "1e51b3f3",
   "metadata": {},
   "outputs": [
    {
     "name": "stdout",
     "output_type": "stream",
     "text": [
      "-100\n"
     ]
    }
   ],
   "source": [
    "print(b)"
   ]
  },
  {
   "cell_type": "code",
   "execution_count": 108,
   "id": "25d69a4e",
   "metadata": {},
   "outputs": [
    {
     "name": "stdout",
     "output_type": "stream",
     "text": [
      "['X', None, None]\n",
      "[None, None, None]\n",
      "[None, None, None]\n",
      " \n",
      "100\n",
      "100\n",
      "100\n",
      "100\n",
      "100\n",
      "100\n",
      "100\n",
      "100\n",
      "best move: 8\n",
      "['X', None, None]\n",
      "[None, None, None]\n",
      "[None, None, 'O']\n",
      " \n",
      "Which field?: 4\n",
      "['X', None, None]\n",
      "[None, 'X', None]\n",
      "[None, None, 'O']\n",
      " \n",
      "100\n",
      "100\n",
      "100\n",
      "100\n",
      "100\n",
      "100\n",
      "best move: 7\n",
      "['X', None, None]\n",
      "[None, 'X', None]\n",
      "[None, 'O', 'O']\n",
      " \n",
      "Which field?: 6\n",
      "['X', None, None]\n",
      "[None, 'X', None]\n",
      "['X', 'O', 'O']\n",
      " \n",
      "100\n",
      "100\n",
      "100\n",
      "100\n",
      "best move: 5\n",
      "['X', None, None]\n",
      "[None, 'X', 'O']\n",
      "['X', 'O', 'O']\n",
      " \n",
      "Which field?: 3\n",
      "['X', None, None]\n",
      "['X', 'X', 'O']\n",
      "['X', 'O', 'O']\n",
      " \n"
     ]
    }
   ],
   "source": [
    "g1=game()\n",
    "g1.setX(0) #first move of user\n",
    "g1.show()\n",
    "\n",
    "while g1.is_ended()==False:\n",
    "    node_list=[]\n",
    "    #index=minmax(g1,2)\n",
    "    \n",
    "    index=decide_move(g1, 2)\n",
    "    g1.setO(index)\n",
    "    g1.show()\n",
    "    Xpos=g1.ask_pos()\n",
    "    g1.setX(Xpos)\n",
    "    g1.show()\n",
    "    "
   ]
  },
  {
   "cell_type": "code",
   "execution_count": null,
   "id": "fe4addb3",
   "metadata": {},
   "outputs": [],
   "source": []
  },
  {
   "cell_type": "code",
   "execution_count": 8,
   "id": "885da5a7",
   "metadata": {},
   "outputs": [
    {
     "ename": "NameError",
     "evalue": "name 'index' is not defined",
     "output_type": "error",
     "traceback": [
      "\u001b[1;31m---------------------------------------------------------------------------\u001b[0m",
      "\u001b[1;31mNameError\u001b[0m                                 Traceback (most recent call last)",
      "\u001b[1;32m~\\AppData\\Local\\Temp/ipykernel_20204/1438373224.py\u001b[0m in \u001b[0;36m<module>\u001b[1;34m\u001b[0m\n\u001b[1;32m----> 1\u001b[1;33m \u001b[0mindex\u001b[0m\u001b[1;33m\u001b[0m\u001b[1;33m\u001b[0m\u001b[0m\n\u001b[0m",
      "\u001b[1;31mNameError\u001b[0m: name 'index' is not defined"
     ]
    }
   ],
   "source": [
    "index"
   ]
  },
  {
   "cell_type": "code",
   "execution_count": null,
   "id": "91713789",
   "metadata": {},
   "outputs": [],
   "source": [
    "g1.show()"
   ]
  },
  {
   "cell_type": "code",
   "execution_count": null,
   "id": "61695657",
   "metadata": {},
   "outputs": [],
   "source": [
    "g=g1\n",
    "g.show()"
   ]
  },
  {
   "cell_type": "code",
   "execution_count": null,
   "id": "32a56ef4",
   "metadata": {},
   "outputs": [],
   "source": [
    "g2=game()\n",
    "g2.setX(2)\n",
    "g2.show()"
   ]
  },
  {
   "cell_type": "code",
   "execution_count": null,
   "id": "fc4bce5f",
   "metadata": {},
   "outputs": [],
   "source": [
    "a=minmax(g2,2)"
   ]
  },
  {
   "cell_type": "code",
   "execution_count": null,
   "id": "d21b8421",
   "metadata": {},
   "outputs": [],
   "source": [
    "a[0].score"
   ]
  },
  {
   "cell_type": "code",
   "execution_count": null,
   "id": "1c798feb",
   "metadata": {},
   "outputs": [],
   "source": [
    "g2.show()\n"
   ]
  },
  {
   "cell_type": "code",
   "execution_count": null,
   "id": "0351e571",
   "metadata": {},
   "outputs": [],
   "source": [
    "index=minmax(g2,2)"
   ]
  },
  {
   "cell_type": "code",
   "execution_count": null,
   "id": "55f474f2",
   "metadata": {},
   "outputs": [],
   "source": [
    "len(index)"
   ]
  },
  {
   "cell_type": "code",
   "execution_count": null,
   "id": "7dda07a2",
   "metadata": {},
   "outputs": [],
   "source": [
    "index[-1]"
   ]
  },
  {
   "cell_type": "code",
   "execution_count": null,
   "id": "e3c16e8e",
   "metadata": {},
   "outputs": [],
   "source": [
    "node_list=minmax(g1,2)"
   ]
  },
  {
   "cell_type": "code",
   "execution_count": null,
   "id": "393d21ce",
   "metadata": {},
   "outputs": [],
   "source": [
    "node_list[-1].pos"
   ]
  },
  {
   "cell_type": "code",
   "execution_count": null,
   "id": "746b2305",
   "metadata": {},
   "outputs": [],
   "source": [
    "for i in range(len(node_list)):\n",
    "    print(str(node_list[i].pos) + \" \" + str(node_list[i].score))"
   ]
  },
  {
   "cell_type": "code",
   "execution_count": null,
   "id": "d6897c11",
   "metadata": {},
   "outputs": [],
   "source": [
    "node_list[0].score"
   ]
  },
  {
   "cell_type": "code",
   "execution_count": null,
   "id": "0d89b025",
   "metadata": {},
   "outputs": [],
   "source": [
    "for ns in node_list[0].score:\n",
    "    print(ns.score)\n",
    "    print(ns.pos)"
   ]
  },
  {
   "cell_type": "code",
   "execution_count": null,
   "id": "342e279a",
   "metadata": {},
   "outputs": [],
   "source": [
    "g2.show()\n"
   ]
  },
  {
   "cell_type": "code",
   "execution_count": 17,
   "id": "5f54ebb0",
   "metadata": {},
   "outputs": [
    {
     "data": {
      "text/plain": [
       "5"
      ]
     },
     "execution_count": 17,
     "metadata": {},
     "output_type": "execute_result"
    }
   ],
   "source": [
    "max(4,5)"
   ]
  },
  {
   "cell_type": "code",
   "execution_count": null,
   "id": "72b79f6b",
   "metadata": {},
   "outputs": [],
   "source": []
  }
 ],
 "metadata": {
  "kernelspec": {
   "display_name": "Python 3 (ipykernel)",
   "language": "python",
   "name": "python3"
  },
  "language_info": {
   "codemirror_mode": {
    "name": "ipython",
    "version": 3
   },
   "file_extension": ".py",
   "mimetype": "text/x-python",
   "name": "python",
   "nbconvert_exporter": "python",
   "pygments_lexer": "ipython3",
   "version": "3.7.11"
  }
 },
 "nbformat": 4,
 "nbformat_minor": 5
}

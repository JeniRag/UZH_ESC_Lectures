{
 "cells": [
  {
   "cell_type": "code",
   "execution_count": 1,
   "id": "46d6f2e7",
   "metadata": {},
   "outputs": [],
   "source": [
    "\"\"\"imports\"\"\"\n",
    "import matplotlib.pyplot as plt\n",
    "import numpy as np\n"
   ]
  },
  {
   "cell_type": "code",
   "execution_count": 2,
   "id": "266a7248",
   "metadata": {},
   "outputs": [],
   "source": [
    "class node():\n",
    "    def __init__(self, number,level):\n",
    "        self.number=number\n",
    "        self.sub_nodes=[]\n",
    "        self.gain=None\n",
    "        self.level=level\n",
    "        \n",
    "        \n",
    "    def show(self):\n",
    "        print(\"level:\"+ str(self.level))\n",
    "        return self.sub_nodes\n",
    "    \n",
    "class tree():\n",
    "    def __init__(self):\n",
    "        self.nodes=[] #list of subnodes\n",
    "        self.start=None #Parentnod\n",
    "        \n",
    "my_dict={1: [0,0], 2: [0,1], 3: [0,2], 4: [1,0], 5: [1,1], 6:[1,2], 7: [2,0], 8:[2,1], 9:[2,2]}\n",
    "key_list = list(my_dict.keys())\n",
    "val_list = list(my_dict.values())      \n",
    "\n",
    "number_list=np.arange(1,10) #numbers from 1 to 9\n",
    "#position = val_list.index(100)\n",
    "#key_list[position]\n",
    "\n",
    "class game():\n",
    "    def __init__(self):\n",
    "        self.trial=9 #9 Felder zum füllen\n",
    "        self.field=[[None, None, None], [None, None, None], [None, None, None]]  #empty field\n",
    "        self.start=None\n",
    "    \n",
    "    def setO(self, c0, c1): #Computer\n",
    "        if self.trial>0:\n",
    "            self.field[c0] [c1]=\"O\"\n",
    "            self.trial -=1\n",
    "   \n",
    "    def show(self):\n",
    "        print(self.field[0])\n",
    "        print(self.field[1])\n",
    "        print(self.field[2])\n",
    "        \n",
    "    def setX(self, c0, c1): #User\n",
    "        if self.trial==9:\n",
    "                self.start=[c0,c1] #first move for parent node\n",
    "                \n",
    "        if self.trial >0:\n",
    "            self.field[c0] [c1]=\"X\"   \n",
    "            self.trial -=1"
   ]
  },
  {
   "cell_type": "code",
   "execution_count": 8,
   "id": "166bbbf2",
   "metadata": {},
   "outputs": [],
   "source": [
    "\n",
    "\"\"\"Functions\"\"\"\n",
    "def add_sub_nodes(n1): #node\n",
    "    if n1.level<10:\n",
    "        for i in number_list:\n",
    "            if i != n1.number:\n",
    "                n1.sub_nodes.append(node(i, n1.level-1))\n",
    "            \n",
    "def build_tree(g1):\n",
    "    \n",
    "    t1=tree()\n",
    "    p1= val_list.index(g1.start)\n",
    "    t1.start= key_list[p1]\n",
    "    \n",
    "    print(t1.start)\n",
    "    \n",
    "    \n",
    "    \n",
    "def setTTT():\n",
    "    \n",
    "    return\n",
    "\n",
    "\n",
    "\n",
    "#TTT_Matrix=np.zeros(shape=(3,3))\n",
    "TTT_Matrix=[[None, None, None], [None, None, None], [None, None, None]]\n",
    "\n",
    "def printField(TTT_Matrix):\n",
    "    print(TTT_Matrix[0])\n",
    "    print(TTT_Matrix[1])\n",
    "    print(TTT_Matrix[2]) "
   ]
  },
  {
   "cell_type": "code",
   "execution_count": 9,
   "id": "63769c09",
   "metadata": {},
   "outputs": [
    {
     "name": "stdout",
     "output_type": "stream",
     "text": [
      "[None, None, None]\n",
      "[None, None, None]\n",
      "[None, None, 'X']\n"
     ]
    }
   ],
   "source": [
    "g1=game()\n",
    "g1.setX(2,2)\n",
    "g1.show()"
   ]
  },
  {
   "cell_type": "code",
   "execution_count": 10,
   "id": "34560c7f",
   "metadata": {},
   "outputs": [],
   "source": [
    "n1=node(1,9)"
   ]
  },
  {
   "cell_type": "code",
   "execution_count": 11,
   "id": "b4c0fded",
   "metadata": {},
   "outputs": [
    {
     "ename": "TypeError",
     "evalue": "can only concatenate str (not \"int\") to str",
     "output_type": "error",
     "traceback": [
      "\u001b[1;31m---------------------------------------------------------------------------\u001b[0m",
      "\u001b[1;31mTypeError\u001b[0m                                 Traceback (most recent call last)",
      "\u001b[1;32m~\\AppData\\Local\\Temp/ipykernel_11708/1756442798.py\u001b[0m in \u001b[0;36m<module>\u001b[1;34m\u001b[0m\n\u001b[0;32m      1\u001b[0m \u001b[0madd_sub_nodes\u001b[0m\u001b[1;33m(\u001b[0m\u001b[0mn1\u001b[0m\u001b[1;33m)\u001b[0m\u001b[1;33m\u001b[0m\u001b[1;33m\u001b[0m\u001b[0m\n\u001b[1;32m----> 2\u001b[1;33m \u001b[0mn1\u001b[0m\u001b[1;33m.\u001b[0m\u001b[0mshow\u001b[0m\u001b[1;33m(\u001b[0m\u001b[1;33m)\u001b[0m\u001b[1;33m\u001b[0m\u001b[1;33m\u001b[0m\u001b[0m\n\u001b[0m",
      "\u001b[1;32m~\\AppData\\Local\\Temp/ipykernel_11708/412895166.py\u001b[0m in \u001b[0;36mshow\u001b[1;34m(self)\u001b[0m\n\u001b[0;32m      8\u001b[0m \u001b[1;33m\u001b[0m\u001b[0m\n\u001b[0;32m      9\u001b[0m     \u001b[1;32mdef\u001b[0m \u001b[0mshow\u001b[0m\u001b[1;33m(\u001b[0m\u001b[0mself\u001b[0m\u001b[1;33m)\u001b[0m\u001b[1;33m:\u001b[0m\u001b[1;33m\u001b[0m\u001b[1;33m\u001b[0m\u001b[0m\n\u001b[1;32m---> 10\u001b[1;33m         \u001b[0mprint\u001b[0m\u001b[1;33m(\u001b[0m\u001b[1;34m\"level:\"\u001b[0m\u001b[1;33m+\u001b[0m \u001b[0mself\u001b[0m\u001b[1;33m.\u001b[0m\u001b[0mlevel\u001b[0m\u001b[1;33m)\u001b[0m\u001b[1;33m\u001b[0m\u001b[1;33m\u001b[0m\u001b[0m\n\u001b[0m\u001b[0;32m     11\u001b[0m         \u001b[1;32mreturn\u001b[0m \u001b[0mself\u001b[0m\u001b[1;33m.\u001b[0m\u001b[0msub_nodes\u001b[0m\u001b[1;33m\u001b[0m\u001b[1;33m\u001b[0m\u001b[0m\n\u001b[0;32m     12\u001b[0m \u001b[1;33m\u001b[0m\u001b[0m\n",
      "\u001b[1;31mTypeError\u001b[0m: can only concatenate str (not \"int\") to str"
     ]
    }
   ],
   "source": [
    "add_sub_nodes(n1)\n",
    "n1.show()"
   ]
  },
  {
   "cell_type": "code",
   "execution_count": null,
   "id": "cd4cf0e2",
   "metadata": {},
   "outputs": [],
   "source": []
  }
 ],
 "metadata": {
  "kernelspec": {
   "display_name": "Python 3 (ipykernel)",
   "language": "python",
   "name": "python3"
  },
  "language_info": {
   "codemirror_mode": {
    "name": "ipython",
    "version": 3
   },
   "file_extension": ".py",
   "mimetype": "text/x-python",
   "name": "python",
   "nbconvert_exporter": "python",
   "pygments_lexer": "ipython3",
   "version": "3.7.11"
  }
 },
 "nbformat": 4,
 "nbformat_minor": 5
}

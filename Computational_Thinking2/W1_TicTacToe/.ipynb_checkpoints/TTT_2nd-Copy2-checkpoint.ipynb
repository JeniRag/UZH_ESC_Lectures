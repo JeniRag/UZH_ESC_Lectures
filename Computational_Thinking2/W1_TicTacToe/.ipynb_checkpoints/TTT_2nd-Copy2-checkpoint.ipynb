{
 "cells": [
  {
   "cell_type": "code",
   "execution_count": 1,
   "id": "802156af",
   "metadata": {},
   "outputs": [],
   "source": [
    "\"\"\"imports\"\"\"\n",
    "import matplotlib.pyplot as plt\n",
    "import numpy as np"
   ]
  },
  {
   "cell_type": "code",
   "execution_count": 99,
   "id": "f38e86d9",
   "metadata": {},
   "outputs": [],
   "source": [
    "\"\"\"Board \"\"\"\n",
    "class game():\n",
    "    def __init__(self):\n",
    "        self.field=[None, None, None, None, None, None, None, None, None]\n",
    "        self.empty_field=9\n",
    "        self.path_order=[]\n",
    "        self.user_order=[]\n",
    "        \n",
    "    def is_valid(self, n):\n",
    "        if n<0 or n>=9:\n",
    "            print(\"Not existing Field \")\n",
    "            return False\n",
    "        \n",
    "        elif self.field[n] !=None:\n",
    "            print(\"Already occupied\")\n",
    "            return False\n",
    "        \n",
    "        else:\n",
    "            #print(\"valid\")\n",
    "            return True\n",
    "        \n",
    "    def setX(self, n, option=True): #User\n",
    "        if (self.empty_field !=0 and self.is_valid(n)==True):\n",
    "            self.field[n]=\"X\"\n",
    "            self.path_order.append(n)\n",
    "            self.user_order.append(1)\n",
    "            if option==True:\n",
    "                self.empty_field-=1\n",
    "    \n",
    "    def setO(self, n, option=True): #Computer\n",
    "        if (self.empty_field !=0 and self.is_valid(n)==True):\n",
    "            self.field[n]=\"O\"\n",
    "            \n",
    "            self.path_order.append(n)\n",
    "            self.user_order.append(2)\n",
    "            if option==True:\n",
    "                self.empty_field -=1\n",
    "            \n",
    "    def ask_pos(self):\n",
    "        pos=input(\"Which field?: \")\n",
    "        pos=int(pos)\n",
    "        while self.is_valid(pos)==False:\n",
    "            self.ask_pos()\n",
    "        return pos\n",
    "    \n",
    "    def show(self):\n",
    "        print(self.field[0:3])\n",
    "        print(self.field[3:6])\n",
    "        print(self.field[6:])\n",
    "        print(\" \")\n",
    "    \n",
    "    def is_ended(self, option=False):\n",
    "    \n",
    "        if self.win(1)==True:\n",
    "            if option==True:\n",
    "                print(\"X wins\")\n",
    "            return True\n",
    "        \n",
    "        elif self.win(2)==True:\n",
    "            if option==True:\n",
    "                print(\"O wins\")\n",
    "            return True\n",
    "        \n",
    "        elif self.empty_field==0:\n",
    "            if option==True:\n",
    "                print(\"Unentschieden\")\n",
    "            return True\n",
    "        \n",
    "        else:\n",
    "            return False\n",
    "           \n",
    "        \n",
    "    def win(self,player):\n",
    "        \n",
    "        if player==1:\n",
    "            if ((self.field[0]==\"X\"  and self.field[0]==self.field[1] and self.field[1]== self.field[2]) or\n",
    "                (self.field[3]==\"X\"  and self.field[3]==self.field[4] and self.field[4]== self.field[5]) or            \n",
    "                (self.field[6]==\"X\"  and self.field[6]==self.field[7] and self.field[7]== self.field[8])  or\n",
    "                (self.field[0]==\"X\"  and self.field[0]==self.field[3] and self.field[3]== self.field[6])  or\n",
    "                (self.field[0]==\"X\"  and self.field[0]==self.field[4] and self.field[4]== self.field[8])  or\n",
    "                (self.field[6]== \"X\" and self.field[6]==self.field[4] and self.field[4]== self.field[2])):\n",
    "                \n",
    "            \n",
    "                return True\n",
    "            \n",
    "            else:\n",
    "                return False\n",
    "        if player==2:\n",
    "            if ((self.field[0]==\"O\"  and self.field[0]==self.field[1] and self.field[1]== self.field[2]) or\n",
    "                (self.field[3]==\"O\"  and self.field[3]==self.field[4] and self.field[4]== self.field[5]) or            \n",
    "                (self.field[6]==\"O\"  and self.field[6]==self.field[7] and self.field[7]== self.field[8])  or\n",
    "                (self.field[0]==\"O\"  and self.field[0]==self.field[3] and self.field[3]== self.field[6])  or\n",
    "                (self.field[0]==\"O\"  and self.field[0]==self.field[4] and self.field[4]== self.field[8])  or\n",
    "                (self.field[6]== \"O\" and self.field[6]==self.field[4] and self.field[4]== self.field[2])): \n",
    "                \n",
    "                return True\n",
    "            \n",
    "            else: \n",
    "                return False\n",
    "     \n",
    "    def empty(self):\n",
    "        empty_list=[]\n",
    "        for i in range(len(self.field)):\n",
    "            if self.field[i]==None:\n",
    "                empty_list.append(i)\n",
    "        return empty_list\n",
    "                \n",
    "           "
   ]
  },
  {
   "cell_type": "code",
   "execution_count": 100,
   "id": "56a543b5",
   "metadata": {},
   "outputs": [
    {
     "name": "stdout",
     "output_type": "stream",
     "text": [
      "0\n",
      "2\n",
      "4\n",
      "['O', 'X', 'O']\n",
      "['X', 'O', 'X']\n",
      "['X', 'O', 'X']\n",
      " \n",
      "0\n"
     ]
    },
    {
     "data": {
      "text/plain": [
       "True"
      ]
     },
     "execution_count": 100,
     "metadata": {},
     "output_type": "execute_result"
    }
   ],
   "source": [
    "g3=game()\n",
    "#g3.field=[\"X\", None, \"X\", \"X\", \"X\", \"O\",\"X\",None ,\"X\"]\n",
    "for i in range(0,6,2):\n",
    "    print(i)\n",
    "    g3.setO(i)\n",
    "    g3.setX(i+1)\n",
    "\n",
    "g3.setX(6)\n",
    "g3.setO(7)\n",
    "g3.setX(8)\n",
    "g3.show()\n",
    "print(g3.empty_field)\n",
    "g3.is_ended()"
   ]
  },
  {
   "cell_type": "code",
   "execution_count": 101,
   "id": "c7dcc208",
   "metadata": {},
   "outputs": [],
   "source": [
    "class node(): #possible moves for tree\n",
    "    def __init__(self):\n",
    "        self.score=None # -1, 0, 1\n",
    "        self.pos=None #position    "
   ]
  },
  {
   "cell_type": "code",
   "execution_count": 102,
   "id": "a5fa128b",
   "metadata": {},
   "outputs": [
    {
     "data": {
      "text/plain": [
       "'\\ndef minmax(g2, player):\\n    \\n    ###terminal states\\n    node_list=[]\\n     #returns list of empty fields\\n    \\n    if (player==1 and g2.win(1)==True): #if first player wins\\n        #g2.show()\\n        return 1\\n        \\n    elif (player ==2 and g2.win(2)==True) : #Computer will minimieren\\n        #g2.show()\\n        return -1\\n    \\n    elif g2.empty_field==0: #Unentschieden\\n        #g2.show()\\n        return 0\\n    \\n    \\n    #terminal state not reached\\n\\n#def decide_move(g2, player):\\n\\n   \\n    empty_list =g2.empty()\\n    if g2.empty_field!=0:\\n        for i in range(len(empty_list)):\\n            n1 =node()\\n\\n            n1.pos = empty_list[i] \\n\\n            #place figures\\n            if player==1:\\n                g2.field[n1.pos]=\"X\" \\n                n1.score=minmax(g2,2)\\n\\n            else:\\n                g2.field[n1.pos]=\"O\"\\n                n1.score=minmax(g2,1)\\n\\n            g2.field[empty_list[i]]=None #reset for the next iteration\\n\\n\\n            node_list.append(n1)\\n\\n    \\n    max_val=-10\\n    min_val=10\\n    \\n\\n    if player==1:\\n        \\n        for i in range(len(node_list)):\\n            if node_list[i].score>max_val:\\n                max_val=node_list[i].score\\n                best_field=i\\n\\n           \\n\\n    else:\\n        \\n        for i in range(len(node_list)):\\n            if node_list[i].score<min_val:\\n\\n                min_val=node_list[i].score\\n                best_field=i\\n\\n    print(node_list)\\n    return node_list[best_field]\\n'"
      ]
     },
     "execution_count": 102,
     "metadata": {},
     "output_type": "execute_result"
    }
   ],
   "source": [
    "\"\"\"minmax\"\"\"\n",
    "\"\"\"\n",
    "def minmax(g2, player):\n",
    "    \n",
    "    ###terminal states\n",
    "    node_list=[]\n",
    "     #returns list of empty fields\n",
    "    \n",
    "    if (player==1 and g2.win(1)==True): #if first player wins\n",
    "        #g2.show()\n",
    "        return 1\n",
    "        \n",
    "    elif (player ==2 and g2.win(2)==True) : #Computer will minimieren\n",
    "        #g2.show()\n",
    "        return -1\n",
    "    \n",
    "    elif g2.empty_field==0: #Unentschieden\n",
    "        #g2.show()\n",
    "        return 0\n",
    "    \n",
    "    \n",
    "    #terminal state not reached\n",
    "\n",
    "#def decide_move(g2, player):\n",
    "\n",
    "   \n",
    "    empty_list =g2.empty()\n",
    "    if g2.empty_field!=0:\n",
    "        for i in range(len(empty_list)):\n",
    "            n1 =node()\n",
    "\n",
    "            n1.pos = empty_list[i] \n",
    "\n",
    "            #place figures\n",
    "            if player==1:\n",
    "                g2.field[n1.pos]=\"X\" \n",
    "                n1.score=minmax(g2,2)\n",
    "\n",
    "            else:\n",
    "                g2.field[n1.pos]=\"O\"\n",
    "                n1.score=minmax(g2,1)\n",
    "\n",
    "            g2.field[empty_list[i]]=None #reset for the next iteration\n",
    "\n",
    "\n",
    "            node_list.append(n1)\n",
    "\n",
    "    \n",
    "    max_val=-10\n",
    "    min_val=10\n",
    "    \n",
    "\n",
    "    if player==1:\n",
    "        \n",
    "        for i in range(len(node_list)):\n",
    "            if node_list[i].score>max_val:\n",
    "                max_val=node_list[i].score\n",
    "                best_field=i\n",
    "\n",
    "           \n",
    "\n",
    "    else:\n",
    "        \n",
    "        for i in range(len(node_list)):\n",
    "            if node_list[i].score<min_val:\n",
    "\n",
    "                min_val=node_list[i].score\n",
    "                best_field=i\n",
    "\n",
    "    print(node_list)\n",
    "    return node_list[best_field]\n",
    "\"\"\"      "
   ]
  },
  {
   "cell_type": "code",
   "execution_count": 103,
   "id": "474a3449",
   "metadata": {},
   "outputs": [
    {
     "data": {
      "text/plain": [
       "'\\ndef minmax(g2, player):\\n    \\n    if g2.is_ended==True:\\n        \\n        if (player==2 and g2.win(player)==True):\\n            return -1\\n        elif (player==1 and g2.win(player)==True):\\n            return 1\\n        elif g2.empty_field==0:\\n            return 0\\n    \\n    \\n    empty_list=g2.empty()\\n    for i in range(len(empty_list)):\\n        if player==2:\\n            g2.field[empty_list[i]]=\"O\"\\n            res= minmax(g2,1)\\n\\n        else:\\n            g2.field[empty_list[i]]=\"X\"\\n            res=minmax(g2,2)\\n        g2.field[empty_list[i]]=None\\n        \\n    if player==2:\\n        max_val=-100\\n        for i in range(len(empty_list)):\\n            res= minmax(g2, 1)\\n            if max_val<res:\\n                max_val=res\\n\\n        return max_val\\n\\n    elif player==1:\\n        min_val=100\\n        for i in range(len(empty_list)):\\n            res=minmax(g2,2)\\n            if min_val>res:\\n                min_val=res\\n        return min_val\\n'"
      ]
     },
     "execution_count": 103,
     "metadata": {},
     "output_type": "execute_result"
    }
   ],
   "source": [
    "\"\"\"minmax\"\"\"\n",
    "\"\"\"\n",
    "def minmax(g2, player):\n",
    "    \n",
    "    if g2.is_ended==True:\n",
    "        \n",
    "        if (player==2 and g2.win(player)==True):\n",
    "            return -1\n",
    "        elif (player==1 and g2.win(player)==True):\n",
    "            return 1\n",
    "        elif g2.empty_field==0:\n",
    "            return 0\n",
    "    \n",
    "    \n",
    "    empty_list=g2.empty()\n",
    "    for i in range(len(empty_list)):\n",
    "        if player==2:\n",
    "            g2.field[empty_list[i]]=\"O\"\n",
    "            res= minmax(g2,1)\n",
    "\n",
    "        else:\n",
    "            g2.field[empty_list[i]]=\"X\"\n",
    "            res=minmax(g2,2)\n",
    "        g2.field[empty_list[i]]=None\n",
    "        \n",
    "    if player==2:\n",
    "        max_val=-100\n",
    "        for i in range(len(empty_list)):\n",
    "            res= minmax(g2, 1)\n",
    "            if max_val<res:\n",
    "                max_val=res\n",
    "\n",
    "        return max_val\n",
    "\n",
    "    elif player==1:\n",
    "        min_val=100\n",
    "        for i in range(len(empty_list)):\n",
    "            res=minmax(g2,2)\n",
    "            if min_val>res:\n",
    "                min_val=res\n",
    "        return min_val\n",
    "\"\"\"    "
   ]
  },
  {
   "cell_type": "code",
   "execution_count": 104,
   "id": "0c988872",
   "metadata": {},
   "outputs": [
    {
     "data": {
      "text/plain": [
       "'\\ndef end_value(g2, player):\\n    if g2.is_ended==True:\\n        \\n        if (player==2 and g2.win(player)==True):\\n            return -1\\n        elif (player==1 and g2.win(player)==True):\\n            return 1\\n        elif g2.empty_field==0:\\n            return 0\\n\\ndef minmax(g2,player):\\n    if g2.is_ended():\\n        return end_value(g2,player)\\n    else:\\n        empty_list=g2.empty()\\n        n1=node()\\n        \\n        for i in range(len(empty_list)):\\n             if player==2:\\n                g2.field[empty_list[i]]=\"O\"\\n                res= minmax(g2,1) # should return end_value\\n                n1.pos=i\\n                n1.score=res\\n                node_list.append(n1)\\n            \\n             else:\\n                g2.field[empty_list[i]]=\"X\"\\n                res=minmax(g2,2)\\n                n1.pos=i\\n                n1.score=res\\n                node_list.append(n1)\\n            \\n             g2.field[empty_list[i]]=None\\n         \\n        if player==2:\\n            max_val=-100\\n            for i in range(len(empty_list)):\\n                res= minmax(g2, 1)\\n                if max_val<res:\\n                    max_val=res\\n\\n            return max_val\\n\\n        elif player==1:\\n            min_val=100\\n            for i in range(len(empty_list)):\\n                res=minmax(g2,2)\\n                if min_val>res:\\n                    min_val=res\\n            return min_val\\n        \\n'"
      ]
     },
     "execution_count": 104,
     "metadata": {},
     "output_type": "execute_result"
    }
   ],
   "source": [
    "\"\"\"\n",
    "def end_value(g2, player):\n",
    "    if g2.is_ended==True:\n",
    "        \n",
    "        if (player==2 and g2.win(player)==True):\n",
    "            return -1\n",
    "        elif (player==1 and g2.win(player)==True):\n",
    "            return 1\n",
    "        elif g2.empty_field==0:\n",
    "            return 0\n",
    "\n",
    "def minmax(g2,player):\n",
    "    if g2.is_ended():\n",
    "        return end_value(g2,player)\n",
    "    else:\n",
    "        empty_list=g2.empty()\n",
    "        n1=node()\n",
    "        \n",
    "        for i in range(len(empty_list)):\n",
    "             if player==2:\n",
    "                g2.field[empty_list[i]]=\"O\"\n",
    "                res= minmax(g2,1) # should return end_value\n",
    "                n1.pos=i\n",
    "                n1.score=res\n",
    "                node_list.append(n1)\n",
    "            \n",
    "             else:\n",
    "                g2.field[empty_list[i]]=\"X\"\n",
    "                res=minmax(g2,2)\n",
    "                n1.pos=i\n",
    "                n1.score=res\n",
    "                node_list.append(n1)\n",
    "            \n",
    "             g2.field[empty_list[i]]=None\n",
    "         \n",
    "        if player==2:\n",
    "            max_val=-100\n",
    "            for i in range(len(empty_list)):\n",
    "                res= minmax(g2, 1)\n",
    "                if max_val<res:\n",
    "                    max_val=res\n",
    "\n",
    "            return max_val\n",
    "\n",
    "        elif player==1:\n",
    "            min_val=100\n",
    "            for i in range(len(empty_list)):\n",
    "                res=minmax(g2,2)\n",
    "                if min_val>res:\n",
    "                    min_val=res\n",
    "            return min_val\n",
    "        \n",
    "\"\"\"    "
   ]
  },
  {
   "cell_type": "code",
   "execution_count": 125,
   "id": "b616f955",
   "metadata": {},
   "outputs": [],
   "source": [
    "def points(g2,player):\n",
    "\n",
    "    if (player==1 and g2.win(1)==True):\n",
    "      #if first player wins\n",
    "        #g2.show()\n",
    "        return 1\n",
    "        \n",
    "    elif (player ==2 and g2.win(2)==True) : #Computer will minimieren\n",
    "        #g2.show()\n",
    "        return -1\n",
    "    \n",
    "    elif g2.empty_field==0: #Unentschieden\n",
    "        #g2.show()\n",
    "        return 0\n",
    "    \n",
    "    else:\n",
    "       \n",
    "        return 100 #not terminal state\n",
    "    \n",
    "def minmax(g2, player):\n",
    "    \n",
    "    if g2.is_ended()==True: #if in terminal state #option no print statement\n",
    "        res= points(g2,player)\n",
    "        return res\n",
    "    \n",
    "\n",
    "    else :\n",
    "        if player==1:\n",
    "            #player maximize\n",
    "            max_val=-100\n",
    "            for i in range(9):\n",
    "                if g2.field[i]==None: # if cell empty\n",
    "                    g2.field[i]= \"X\" #fill with character\n",
    "                    best=max(max_val, minmax(g2, 2)) #minmax of opponent\n",
    "                    g2.field[i]=None #return to normal\n",
    "            #print(\"resulutat: \"+ str(best))\n",
    "            return best\n",
    "\n",
    "\n",
    "        else: #player 2 minimize\n",
    "            best=100\n",
    "            for i in range(9):\n",
    "                if g2.field[i]==None:\n",
    "                    g2.field[i]= \"O\"\n",
    "                    best=min(best, minmax(g2,1)) \n",
    "                    g2.field[i]=None\n",
    "            #print(\"resulutat: \"+ str(best))\n",
    "            return best\n",
    "        \n",
    "def decide_move(g2, player):\n",
    "\n",
    "    n1=node()\n",
    "    max_val=-100\n",
    "    min_val=100\n",
    "    #n1.pos=0\n",
    "    \n",
    "    for i in range(9):\n",
    "        if g2.field[i]==None:\n",
    "            if player==1:\n",
    "                g2.field[i]=\"X\"\n",
    "                res=minmax(g2,2) ###number correct????????\n",
    "                #print(\"result: \"+ str(res)) \n",
    "                if max_val<res:\n",
    "                    n1.pos=i\n",
    "                g2.field[i]=None   \n",
    "                \n",
    "            else:  #player 2's turn\n",
    "                g2.field[i]=\"O\"\n",
    "                res=minmax(g2,1)\n",
    "                \n",
    "                if res<min_val:\n",
    "                    min_val=res\n",
    "                    n1.pos=i  \n",
    "                g2.field[i]=None\n",
    "            \n",
    "            \n",
    "            \n",
    "            \n",
    "                \n",
    "    #print(\"best move: \" + str(n1.pos))\n",
    "    return n1.pos"
   ]
  },
  {
   "cell_type": "code",
   "execution_count": 126,
   "id": "7f085f2d",
   "metadata": {},
   "outputs": [
    {
     "name": "stdout",
     "output_type": "stream",
     "text": [
      "['X', None, None]\n",
      "[None, None, None]\n",
      "[None, None, None]\n",
      " \n",
      "['X', None, None]\n",
      "[None, None, None]\n",
      "[None, None, None]\n",
      " \n",
      "100\n",
      "100\n",
      "100\n",
      "100\n",
      "100\n",
      "100\n",
      "100\n",
      "100\n",
      "None\n"
     ]
    }
   ],
   "source": [
    "g1=game()\n",
    "g1.setX(0) #first move of user\n",
    "g1.show()\n",
    "\n",
    "\n",
    "g1.show()\n",
    "#minmax(g1,1)\n",
    "\n",
    "for i in range(9):\n",
    "    if g1.field[i]==None:\n",
    "        g1.field[i]=\"O\" #Player2\n",
    "        print(minmax(g1,1))\n",
    "        #g1.show()\n",
    "        g1.field[i]=None\n",
    "        \n",
    "a=decide_move(g1,2)\n",
    "print(a)"
   ]
  },
  {
   "cell_type": "code",
   "execution_count": 107,
   "id": "017b7d57",
   "metadata": {},
   "outputs": [
    {
     "data": {
      "text/plain": [
       "False"
      ]
     },
     "execution_count": 107,
     "metadata": {},
     "output_type": "execute_result"
    }
   ],
   "source": [
    "minmax(g1,2)"
   ]
  },
  {
   "cell_type": "code",
   "execution_count": 129,
   "id": "8851a595",
   "metadata": {},
   "outputs": [
    {
     "name": "stdout",
     "output_type": "stream",
     "text": [
      "['X', 'X', 'X']\n",
      "['O', None, None]\n",
      "['O', 'O', None]\n",
      " \n"
     ]
    },
    {
     "data": {
      "text/plain": [
       "100"
      ]
     },
     "execution_count": 129,
     "metadata": {},
     "output_type": "execute_result"
    }
   ],
   "source": [
    "g2=game()\n",
    "g2.field=[\"X\",\"X\",\"X\",\"O\",None,None, \"O\",\"O\",None]\n",
    "g2.show()\n",
    "points(g2,2)"
   ]
  },
  {
   "cell_type": "code",
   "execution_count": 109,
   "id": "8627fb88",
   "metadata": {},
   "outputs": [
    {
     "name": "stdout",
     "output_type": "stream",
     "text": [
      "[0,    1,    2]\n",
      "[3,    4,    5]\n",
      "[6,    7,    8]\n",
      " \n",
      "[None, None, None]\n",
      "[None, None, 'X']\n",
      "[None, None, None]\n",
      " \n",
      "['O', None, None]\n",
      "[None, None, 'X']\n",
      "[None, None, None]\n",
      " \n",
      "Which field?: 3\n",
      "['O', None, None]\n",
      "['X', None, 'X']\n",
      "[None, None, None]\n",
      " \n",
      "['O', 'O', None]\n",
      "['X', None, 'X']\n",
      "[None, None, None]\n",
      " \n"
     ]
    },
    {
     "ename": "KeyboardInterrupt",
     "evalue": "Interrupted by user",
     "output_type": "error",
     "traceback": [
      "\u001b[1;31m---------------------------------------------------------------------------\u001b[0m",
      "\u001b[1;31mKeyboardInterrupt\u001b[0m                         Traceback (most recent call last)",
      "\u001b[1;32m~\\AppData\\Local\\Temp/ipykernel_15868/782348118.py\u001b[0m in \u001b[0;36m<module>\u001b[1;34m\u001b[0m\n\u001b[0;32m     14\u001b[0m     \u001b[0mg1\u001b[0m\u001b[1;33m.\u001b[0m\u001b[0msetO\u001b[0m\u001b[1;33m(\u001b[0m\u001b[0mindex\u001b[0m\u001b[1;33m)\u001b[0m\u001b[1;33m\u001b[0m\u001b[1;33m\u001b[0m\u001b[0m\n\u001b[0;32m     15\u001b[0m     \u001b[0mg1\u001b[0m\u001b[1;33m.\u001b[0m\u001b[0mshow\u001b[0m\u001b[1;33m(\u001b[0m\u001b[1;33m)\u001b[0m\u001b[1;33m\u001b[0m\u001b[1;33m\u001b[0m\u001b[0m\n\u001b[1;32m---> 16\u001b[1;33m     \u001b[0mXpos\u001b[0m\u001b[1;33m=\u001b[0m\u001b[0mg1\u001b[0m\u001b[1;33m.\u001b[0m\u001b[0mask_pos\u001b[0m\u001b[1;33m(\u001b[0m\u001b[1;33m)\u001b[0m\u001b[1;33m\u001b[0m\u001b[1;33m\u001b[0m\u001b[0m\n\u001b[0m\u001b[0;32m     17\u001b[0m     \u001b[0mg1\u001b[0m\u001b[1;33m.\u001b[0m\u001b[0msetX\u001b[0m\u001b[1;33m(\u001b[0m\u001b[0mXpos\u001b[0m\u001b[1;33m)\u001b[0m\u001b[1;33m\u001b[0m\u001b[1;33m\u001b[0m\u001b[0m\n\u001b[0;32m     18\u001b[0m     \u001b[0mg1\u001b[0m\u001b[1;33m.\u001b[0m\u001b[0mshow\u001b[0m\u001b[1;33m(\u001b[0m\u001b[1;33m)\u001b[0m\u001b[1;33m\u001b[0m\u001b[1;33m\u001b[0m\u001b[0m\n",
      "\u001b[1;32m~\\AppData\\Local\\Temp/ipykernel_15868/8888564.py\u001b[0m in \u001b[0;36mask_pos\u001b[1;34m(self)\u001b[0m\n\u001b[0;32m     38\u001b[0m \u001b[1;33m\u001b[0m\u001b[0m\n\u001b[0;32m     39\u001b[0m     \u001b[1;32mdef\u001b[0m \u001b[0mask_pos\u001b[0m\u001b[1;33m(\u001b[0m\u001b[0mself\u001b[0m\u001b[1;33m)\u001b[0m\u001b[1;33m:\u001b[0m\u001b[1;33m\u001b[0m\u001b[1;33m\u001b[0m\u001b[0m\n\u001b[1;32m---> 40\u001b[1;33m         \u001b[0mpos\u001b[0m\u001b[1;33m=\u001b[0m\u001b[0minput\u001b[0m\u001b[1;33m(\u001b[0m\u001b[1;34m\"Which field?: \"\u001b[0m\u001b[1;33m)\u001b[0m\u001b[1;33m\u001b[0m\u001b[1;33m\u001b[0m\u001b[0m\n\u001b[0m\u001b[0;32m     41\u001b[0m         \u001b[0mpos\u001b[0m\u001b[1;33m=\u001b[0m\u001b[0mint\u001b[0m\u001b[1;33m(\u001b[0m\u001b[0mpos\u001b[0m\u001b[1;33m)\u001b[0m\u001b[1;33m\u001b[0m\u001b[1;33m\u001b[0m\u001b[0m\n\u001b[0;32m     42\u001b[0m         \u001b[1;32mwhile\u001b[0m \u001b[0mself\u001b[0m\u001b[1;33m.\u001b[0m\u001b[0mis_valid\u001b[0m\u001b[1;33m(\u001b[0m\u001b[0mpos\u001b[0m\u001b[1;33m)\u001b[0m\u001b[1;33m==\u001b[0m\u001b[1;32mFalse\u001b[0m\u001b[1;33m:\u001b[0m\u001b[1;33m\u001b[0m\u001b[1;33m\u001b[0m\u001b[0m\n",
      "\u001b[1;32m~\\Anaconda3\\lib\\site-packages\\ipykernel\\kernelbase.py\u001b[0m in \u001b[0;36mraw_input\u001b[1;34m(self, prompt)\u001b[0m\n\u001b[0;32m   1008\u001b[0m             \u001b[0mself\u001b[0m\u001b[1;33m.\u001b[0m\u001b[0m_parent_ident\u001b[0m\u001b[1;33m[\u001b[0m\u001b[1;34m\"shell\"\u001b[0m\u001b[1;33m]\u001b[0m\u001b[1;33m,\u001b[0m\u001b[1;33m\u001b[0m\u001b[1;33m\u001b[0m\u001b[0m\n\u001b[0;32m   1009\u001b[0m             \u001b[0mself\u001b[0m\u001b[1;33m.\u001b[0m\u001b[0mget_parent\u001b[0m\u001b[1;33m(\u001b[0m\u001b[1;34m\"shell\"\u001b[0m\u001b[1;33m)\u001b[0m\u001b[1;33m,\u001b[0m\u001b[1;33m\u001b[0m\u001b[1;33m\u001b[0m\u001b[0m\n\u001b[1;32m-> 1010\u001b[1;33m             \u001b[0mpassword\u001b[0m\u001b[1;33m=\u001b[0m\u001b[1;32mFalse\u001b[0m\u001b[1;33m,\u001b[0m\u001b[1;33m\u001b[0m\u001b[1;33m\u001b[0m\u001b[0m\n\u001b[0m\u001b[0;32m   1011\u001b[0m         )\n\u001b[0;32m   1012\u001b[0m \u001b[1;33m\u001b[0m\u001b[0m\n",
      "\u001b[1;32m~\\Anaconda3\\lib\\site-packages\\ipykernel\\kernelbase.py\u001b[0m in \u001b[0;36m_input_request\u001b[1;34m(self, prompt, ident, parent, password)\u001b[0m\n\u001b[0;32m   1049\u001b[0m             \u001b[1;32mexcept\u001b[0m \u001b[0mKeyboardInterrupt\u001b[0m\u001b[1;33m:\u001b[0m\u001b[1;33m\u001b[0m\u001b[1;33m\u001b[0m\u001b[0m\n\u001b[0;32m   1050\u001b[0m                 \u001b[1;31m# re-raise KeyboardInterrupt, to truncate traceback\u001b[0m\u001b[1;33m\u001b[0m\u001b[1;33m\u001b[0m\u001b[1;33m\u001b[0m\u001b[0m\n\u001b[1;32m-> 1051\u001b[1;33m                 \u001b[1;32mraise\u001b[0m \u001b[0mKeyboardInterrupt\u001b[0m\u001b[1;33m(\u001b[0m\u001b[1;34m\"Interrupted by user\"\u001b[0m\u001b[1;33m)\u001b[0m \u001b[1;32mfrom\u001b[0m \u001b[1;32mNone\u001b[0m\u001b[1;33m\u001b[0m\u001b[1;33m\u001b[0m\u001b[0m\n\u001b[0m\u001b[0;32m   1052\u001b[0m             \u001b[1;32mexcept\u001b[0m \u001b[0mException\u001b[0m\u001b[1;33m:\u001b[0m\u001b[1;33m\u001b[0m\u001b[1;33m\u001b[0m\u001b[0m\n\u001b[0;32m   1053\u001b[0m                 \u001b[0mself\u001b[0m\u001b[1;33m.\u001b[0m\u001b[0mlog\u001b[0m\u001b[1;33m.\u001b[0m\u001b[0mwarning\u001b[0m\u001b[1;33m(\u001b[0m\u001b[1;34m\"Invalid Message:\"\u001b[0m\u001b[1;33m,\u001b[0m \u001b[0mexc_info\u001b[0m\u001b[1;33m=\u001b[0m\u001b[1;32mTrue\u001b[0m\u001b[1;33m)\u001b[0m\u001b[1;33m\u001b[0m\u001b[1;33m\u001b[0m\u001b[0m\n",
      "\u001b[1;31mKeyboardInterrupt\u001b[0m: Interrupted by user"
     ]
    }
   ],
   "source": [
    "g1=game()\n",
    "print(\"[0,    1,    2]\")\n",
    "print(\"[3,    4,    5]\")\n",
    "print(\"[6,    7,    8]\")\n",
    "print(\" \")\n",
    "g1.setX(5) #first move of user\n",
    "g1.show()\n",
    "\n",
    "while g1.is_ended()==False:\n",
    "    node_list=[]\n",
    "    #index=minmax(g1,2)\n",
    "    \n",
    "    index=decide_move(g1,2)\n",
    "    g1.setO(index)\n",
    "    g1.show()\n",
    "    Xpos=g1.ask_pos()\n",
    "    g1.setX(Xpos)\n",
    "    g1.show()\n",
    "    "
   ]
  },
  {
   "cell_type": "code",
   "execution_count": 19,
   "id": "e824e31e",
   "metadata": {},
   "outputs": [
    {
     "data": {
      "text/plain": [
       "False"
      ]
     },
     "execution_count": 19,
     "metadata": {},
     "output_type": "execute_result"
    }
   ],
   "source": [
    "minmax(g1,2)"
   ]
  },
  {
   "cell_type": "code",
   "execution_count": null,
   "id": "d667a5a4",
   "metadata": {},
   "outputs": [],
   "source": [
    "index"
   ]
  },
  {
   "cell_type": "code",
   "execution_count": null,
   "id": "78a1b090",
   "metadata": {},
   "outputs": [],
   "source": [
    "g1.show()"
   ]
  },
  {
   "cell_type": "code",
   "execution_count": null,
   "id": "c94b2b96",
   "metadata": {},
   "outputs": [],
   "source": [
    "g=g1\n",
    "g.show()"
   ]
  },
  {
   "cell_type": "code",
   "execution_count": null,
   "id": "f4dabc36",
   "metadata": {},
   "outputs": [],
   "source": [
    "g2=game()\n",
    "g2.setX(2)\n",
    "g2.show()"
   ]
  },
  {
   "cell_type": "code",
   "execution_count": null,
   "id": "ac50406b",
   "metadata": {},
   "outputs": [],
   "source": [
    "a=minmax(g2,2)"
   ]
  },
  {
   "cell_type": "code",
   "execution_count": null,
   "id": "2207aea9",
   "metadata": {},
   "outputs": [],
   "source": [
    "a[0].score"
   ]
  },
  {
   "cell_type": "code",
   "execution_count": null,
   "id": "f08b5c7c",
   "metadata": {},
   "outputs": [],
   "source": [
    "g2.show()\n"
   ]
  },
  {
   "cell_type": "code",
   "execution_count": null,
   "id": "c5c39b57",
   "metadata": {},
   "outputs": [],
   "source": [
    "index=minmax(g2,2)"
   ]
  },
  {
   "cell_type": "code",
   "execution_count": null,
   "id": "f030c514",
   "metadata": {},
   "outputs": [],
   "source": [
    "len(index)"
   ]
  },
  {
   "cell_type": "code",
   "execution_count": null,
   "id": "f790add8",
   "metadata": {},
   "outputs": [],
   "source": [
    "index[-1]"
   ]
  },
  {
   "cell_type": "code",
   "execution_count": null,
   "id": "e2dac50b",
   "metadata": {},
   "outputs": [],
   "source": [
    "node_list=minmax(g1,2)"
   ]
  },
  {
   "cell_type": "code",
   "execution_count": null,
   "id": "493082e4",
   "metadata": {},
   "outputs": [],
   "source": [
    "node_list[-1].pos"
   ]
  },
  {
   "cell_type": "code",
   "execution_count": null,
   "id": "41715fd8",
   "metadata": {},
   "outputs": [],
   "source": [
    "for i in range(len(node_list)):\n",
    "    print(str(node_list[i].pos) + \" \" + str(node_list[i].score))"
   ]
  },
  {
   "cell_type": "code",
   "execution_count": null,
   "id": "fb09d620",
   "metadata": {},
   "outputs": [],
   "source": [
    "node_list[0].score"
   ]
  },
  {
   "cell_type": "code",
   "execution_count": null,
   "id": "b41efe28",
   "metadata": {},
   "outputs": [],
   "source": [
    "for ns in node_list[0].score:\n",
    "    print(ns.score)\n",
    "    print(ns.pos)"
   ]
  },
  {
   "cell_type": "code",
   "execution_count": null,
   "id": "824ac83e",
   "metadata": {},
   "outputs": [],
   "source": [
    "g2.show()\n"
   ]
  },
  {
   "cell_type": "code",
   "execution_count": null,
   "id": "2a9eee87",
   "metadata": {},
   "outputs": [],
   "source": [
    "max(4,5)"
   ]
  },
  {
   "cell_type": "code",
   "execution_count": null,
   "id": "b0c0c34b",
   "metadata": {},
   "outputs": [],
   "source": []
  }
 ],
 "metadata": {
  "kernelspec": {
   "display_name": "Python 3 (ipykernel)",
   "language": "python",
   "name": "python3"
  },
  "language_info": {
   "codemirror_mode": {
    "name": "ipython",
    "version": 3
   },
   "file_extension": ".py",
   "mimetype": "text/x-python",
   "name": "python",
   "nbconvert_exporter": "python",
   "pygments_lexer": "ipython3",
   "version": "3.7.11"
  }
 },
 "nbformat": 4,
 "nbformat_minor": 5
}
